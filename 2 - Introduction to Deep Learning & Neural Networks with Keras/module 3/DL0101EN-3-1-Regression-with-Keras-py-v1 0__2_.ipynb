{
 "cells": [
  {
   "cell_type": "markdown",
   "metadata": {},
   "source": [
    "<a href=\"https://cognitiveclass.ai\"><img src=\"https://cf-courses-data.s3.us.cloud-object-storage.appdomain.cloud/IBMDeveloperSkillsNetwork-DL0101EN-SkillsNetwork/images/IDSN-logo.png\" width=\"400\"> </a>\n",
    "\n",
    "# Regression Models with Keras\n",
    "\n",
    "Estimated time needed: **45** mins\n"
   ]
  },
  {
   "cell_type": "markdown",
   "metadata": {},
   "source": [
    "## Introduction\n"
   ]
  },
  {
   "cell_type": "markdown",
   "metadata": {},
   "source": [
    "As we discussed in the videos, despite the popularity of more powerful libraries such as PyToch and TensorFlow, they are not easy to use and have a steep learning curve. So, for people who are just starting to learn deep learning, there is no better library to use other than the Keras library. \n",
    "\n",
    "Keras is a high-level API for building deep learning models. It has gained favor for its ease of use and syntactic simplicity facilitating fast development. As you will see in this lab and the other labs in this course, building a very complex deep learning network can be achieved with Keras with only few lines of code. You will appreciate Keras even more, once you learn how to build deep models using PyTorch and TensorFlow in the other courses.\n",
    "\n",
    "So, in this lab, you will learn how to use the Keras library to build a regression model.\n"
   ]
  },
  {
   "cell_type": "markdown",
   "metadata": {},
   "source": [
    "## Objectives for this Notebook    \n",
    "* How to use the Keras library to build a regression model\n",
    "* Download and clean the data set\n",
    "* Build a neural network\n",
    "* Train and test the network     \n",
    "\n"
   ]
  },
  {
   "cell_type": "markdown",
   "metadata": {},
   "source": [
    "<h2>Table of Contents</h2>\n",
    "\n",
    "\n",
    "<div class=\"alert alert-block alert-info\" style=\"margin-top: 20px\">\n",
    "\n",
    "<font size = 4>\n",
    "1. <a href=\"#Download-and-Clean-the-Data-Set\">Download and Clean the Data Set</a><br>\n",
    "2. <a href=\"#Import-Keras-Packages\">Import Keras Packages</a><br>\n",
    "3. <a href=\"#Build-a-Neural-Network\">Build a Neural Network</a><br>\n",
    "4. <a href=\"#Train-and-Test-the-Network\">Train and Test the Network</a><br>  \n",
    "\n",
    "</font>\n",
    "</div>\n"
   ]
  },
  {
   "cell_type": "markdown",
   "metadata": {},
   "source": [
    "Let's start by importing the <em>pandas</em> and the Numpy libraries.\n"
   ]
  },
  {
   "cell_type": "code",
   "execution_count": 18,
   "metadata": {},
   "outputs": [
    {
     "name": "stdout",
     "output_type": "stream",
     "text": [
      "Requirement already satisfied: numpy==2.0.2 in /opt/conda/lib/python3.12/site-packages (2.0.2)\n",
      "Requirement already satisfied: pandas==2.2.2 in /opt/conda/lib/python3.12/site-packages (2.2.2)\n",
      "Requirement already satisfied: numpy>=1.26.0 in /opt/conda/lib/python3.12/site-packages (from pandas==2.2.2) (2.0.2)\n",
      "Requirement already satisfied: python-dateutil>=2.8.2 in /opt/conda/lib/python3.12/site-packages (from pandas==2.2.2) (2.9.0.post0)\n",
      "Requirement already satisfied: pytz>=2020.1 in /opt/conda/lib/python3.12/site-packages (from pandas==2.2.2) (2024.2)\n",
      "Requirement already satisfied: tzdata>=2022.7 in /opt/conda/lib/python3.12/site-packages (from pandas==2.2.2) (2025.2)\n",
      "Requirement already satisfied: six>=1.5 in /opt/conda/lib/python3.12/site-packages (from python-dateutil>=2.8.2->pandas==2.2.2) (1.17.0)\n",
      "Requirement already satisfied: tensorflow_cpu==2.18.0 in /opt/conda/lib/python3.12/site-packages (2.18.0)\n",
      "Requirement already satisfied: absl-py>=1.0.0 in /opt/conda/lib/python3.12/site-packages (from tensorflow_cpu==2.18.0) (2.3.0)\n",
      "Requirement already satisfied: astunparse>=1.6.0 in /opt/conda/lib/python3.12/site-packages (from tensorflow_cpu==2.18.0) (1.6.3)\n",
      "Requirement already satisfied: flatbuffers>=24.3.25 in /opt/conda/lib/python3.12/site-packages (from tensorflow_cpu==2.18.0) (25.2.10)\n",
      "Requirement already satisfied: gast!=0.5.0,!=0.5.1,!=0.5.2,>=0.2.1 in /opt/conda/lib/python3.12/site-packages (from tensorflow_cpu==2.18.0) (0.6.0)\n",
      "Requirement already satisfied: google-pasta>=0.1.1 in /opt/conda/lib/python3.12/site-packages (from tensorflow_cpu==2.18.0) (0.2.0)\n",
      "Requirement already satisfied: libclang>=13.0.0 in /opt/conda/lib/python3.12/site-packages (from tensorflow_cpu==2.18.0) (18.1.1)\n",
      "Requirement already satisfied: opt-einsum>=2.3.2 in /opt/conda/lib/python3.12/site-packages (from tensorflow_cpu==2.18.0) (3.4.0)\n",
      "Requirement already satisfied: packaging in /opt/conda/lib/python3.12/site-packages (from tensorflow_cpu==2.18.0) (24.2)\n",
      "Requirement already satisfied: protobuf!=4.21.0,!=4.21.1,!=4.21.2,!=4.21.3,!=4.21.4,!=4.21.5,<6.0.0dev,>=3.20.3 in /opt/conda/lib/python3.12/site-packages (from tensorflow_cpu==2.18.0) (5.29.5)\n",
      "Requirement already satisfied: requests<3,>=2.21.0 in /opt/conda/lib/python3.12/site-packages (from tensorflow_cpu==2.18.0) (2.32.3)\n",
      "Requirement already satisfied: setuptools in /opt/conda/lib/python3.12/site-packages (from tensorflow_cpu==2.18.0) (75.8.0)\n",
      "Requirement already satisfied: six>=1.12.0 in /opt/conda/lib/python3.12/site-packages (from tensorflow_cpu==2.18.0) (1.17.0)\n",
      "Requirement already satisfied: termcolor>=1.1.0 in /opt/conda/lib/python3.12/site-packages (from tensorflow_cpu==2.18.0) (3.1.0)\n",
      "Requirement already satisfied: typing-extensions>=3.6.6 in /opt/conda/lib/python3.12/site-packages (from tensorflow_cpu==2.18.0) (4.12.2)\n",
      "Requirement already satisfied: wrapt>=1.11.0 in /opt/conda/lib/python3.12/site-packages (from tensorflow_cpu==2.18.0) (1.17.2)\n",
      "Requirement already satisfied: grpcio<2.0,>=1.24.3 in /opt/conda/lib/python3.12/site-packages (from tensorflow_cpu==2.18.0) (1.73.0)\n",
      "Requirement already satisfied: tensorboard<2.19,>=2.18 in /opt/conda/lib/python3.12/site-packages (from tensorflow_cpu==2.18.0) (2.18.0)\n",
      "Requirement already satisfied: keras>=3.5.0 in /opt/conda/lib/python3.12/site-packages (from tensorflow_cpu==2.18.0) (3.10.0)\n",
      "Requirement already satisfied: numpy<2.1.0,>=1.26.0 in /opt/conda/lib/python3.12/site-packages (from tensorflow_cpu==2.18.0) (2.0.2)\n",
      "Requirement already satisfied: h5py>=3.11.0 in /opt/conda/lib/python3.12/site-packages (from tensorflow_cpu==2.18.0) (3.14.0)\n",
      "Requirement already satisfied: ml-dtypes<0.5.0,>=0.4.0 in /opt/conda/lib/python3.12/site-packages (from tensorflow_cpu==2.18.0) (0.4.1)\n",
      "Requirement already satisfied: wheel<1.0,>=0.23.0 in /opt/conda/lib/python3.12/site-packages (from astunparse>=1.6.0->tensorflow_cpu==2.18.0) (0.45.1)\n",
      "Requirement already satisfied: rich in /opt/conda/lib/python3.12/site-packages (from keras>=3.5.0->tensorflow_cpu==2.18.0) (14.0.0)\n",
      "Requirement already satisfied: namex in /opt/conda/lib/python3.12/site-packages (from keras>=3.5.0->tensorflow_cpu==2.18.0) (0.1.0)\n",
      "Requirement already satisfied: optree in /opt/conda/lib/python3.12/site-packages (from keras>=3.5.0->tensorflow_cpu==2.18.0) (0.16.0)\n",
      "Requirement already satisfied: charset_normalizer<4,>=2 in /opt/conda/lib/python3.12/site-packages (from requests<3,>=2.21.0->tensorflow_cpu==2.18.0) (3.4.1)\n",
      "Requirement already satisfied: idna<4,>=2.5 in /opt/conda/lib/python3.12/site-packages (from requests<3,>=2.21.0->tensorflow_cpu==2.18.0) (3.10)\n",
      "Requirement already satisfied: urllib3<3,>=1.21.1 in /opt/conda/lib/python3.12/site-packages (from requests<3,>=2.21.0->tensorflow_cpu==2.18.0) (2.3.0)\n",
      "Requirement already satisfied: certifi>=2017.4.17 in /opt/conda/lib/python3.12/site-packages (from requests<3,>=2.21.0->tensorflow_cpu==2.18.0) (2024.12.14)\n",
      "Requirement already satisfied: markdown>=2.6.8 in /opt/conda/lib/python3.12/site-packages (from tensorboard<2.19,>=2.18->tensorflow_cpu==2.18.0) (3.8.1)\n",
      "Requirement already satisfied: tensorboard-data-server<0.8.0,>=0.7.0 in /opt/conda/lib/python3.12/site-packages (from tensorboard<2.19,>=2.18->tensorflow_cpu==2.18.0) (0.7.2)\n",
      "Requirement already satisfied: werkzeug>=1.0.1 in /opt/conda/lib/python3.12/site-packages (from tensorboard<2.19,>=2.18->tensorflow_cpu==2.18.0) (3.1.3)\n",
      "Requirement already satisfied: MarkupSafe>=2.1.1 in /opt/conda/lib/python3.12/site-packages (from werkzeug>=1.0.1->tensorboard<2.19,>=2.18->tensorflow_cpu==2.18.0) (3.0.2)\n",
      "Requirement already satisfied: markdown-it-py>=2.2.0 in /opt/conda/lib/python3.12/site-packages (from rich->keras>=3.5.0->tensorflow_cpu==2.18.0) (3.0.0)\n",
      "Requirement already satisfied: pygments<3.0.0,>=2.13.0 in /opt/conda/lib/python3.12/site-packages (from rich->keras>=3.5.0->tensorflow_cpu==2.18.0) (2.19.1)\n",
      "Requirement already satisfied: mdurl~=0.1 in /opt/conda/lib/python3.12/site-packages (from markdown-it-py>=2.2.0->rich->keras>=3.5.0->tensorflow_cpu==2.18.0) (0.1.2)\n"
     ]
    }
   ],
   "source": [
    "# All Libraries required for this lab are listed below. \n",
    "\n",
    "!pip install numpy==2.0.2\n",
    "!pip install pandas==2.2.2\n",
    "!pip install tensorflow_cpu==2.18.0\n"
   ]
  },
  {
   "cell_type": "markdown",
   "metadata": {},
   "source": [
    "#### To use Keras, you will also need to install a backend framework – such as TensorFlow.\n",
    "\n",
    "If you install TensorFlow 2.16 or above, it will install Keras by default.\n",
    "\n",
    "We are using the CPU version of tensorflow since we are dealing with smaller datasets. \n",
    "You may install the GPU version of tensorflow on your machine to accelarate the processing of larger datasets\n"
   ]
  },
  {
   "cell_type": "markdown",
   "metadata": {},
   "source": [
    "#### Suppress the tensorflow warning messages\n",
    "We use the following code to  suppress the warning messages due to use of CPU architechture for tensoflow.\n",
    "\n",
    "You may want to **comment out** these lines if you are using the GPU architechture\n"
   ]
  },
  {
   "cell_type": "code",
   "execution_count": 19,
   "metadata": {},
   "outputs": [],
   "source": [
    "import os\n",
    "os.environ['TF_ENABLE_ONEDNN_OPTS'] = '0'\n",
    "os.environ['TF_CPP_MIN_LOG_LEVEL'] = '2'"
   ]
  },
  {
   "cell_type": "code",
   "execution_count": 20,
   "metadata": {},
   "outputs": [],
   "source": [
    "import pandas as pd\n",
    "import numpy as np\n",
    "import keras\n",
    "\n",
    "import warnings\n",
    "warnings.simplefilter('ignore', FutureWarning)"
   ]
  },
  {
   "cell_type": "markdown",
   "metadata": {},
   "source": [
    "We will be playing around with the same dataset that we used in the videos.\n",
    "\n",
    "<strong>The dataset is about the compressive strength of different samples of concrete based on the volumes of the different ingredients that were used to make them. Ingredients include:</strong>\n",
    "\n",
    "* Cement\n",
    "* Blast furnace slag\n",
    "* Fly ash\n",
    "* Water\n",
    "* Superplasticizer\n",
    "* Coarse aggregate\n",
    "* Fine aggregate\n"
   ]
  },
  {
   "cell_type": "markdown",
   "metadata": {},
   "source": [
    "## Download and Clean the Data Set\n"
   ]
  },
  {
   "cell_type": "markdown",
   "metadata": {},
   "source": [
    "Let's download the data and read it into a <em>pandas</em> dataframe.\n"
   ]
  },
  {
   "cell_type": "code",
   "execution_count": 21,
   "metadata": {},
   "outputs": [
    {
     "data": {
      "text/html": [
       "<div>\n",
       "<style scoped>\n",
       "    .dataframe tbody tr th:only-of-type {\n",
       "        vertical-align: middle;\n",
       "    }\n",
       "\n",
       "    .dataframe tbody tr th {\n",
       "        vertical-align: top;\n",
       "    }\n",
       "\n",
       "    .dataframe thead th {\n",
       "        text-align: right;\n",
       "    }\n",
       "</style>\n",
       "<table border=\"1\" class=\"dataframe\">\n",
       "  <thead>\n",
       "    <tr style=\"text-align: right;\">\n",
       "      <th></th>\n",
       "      <th>Cement</th>\n",
       "      <th>Blast Furnace Slag</th>\n",
       "      <th>Fly Ash</th>\n",
       "      <th>Water</th>\n",
       "      <th>Superplasticizer</th>\n",
       "      <th>Coarse Aggregate</th>\n",
       "      <th>Fine Aggregate</th>\n",
       "      <th>Age</th>\n",
       "      <th>Strength</th>\n",
       "    </tr>\n",
       "  </thead>\n",
       "  <tbody>\n",
       "    <tr>\n",
       "      <th>0</th>\n",
       "      <td>540.0</td>\n",
       "      <td>0.0</td>\n",
       "      <td>0.0</td>\n",
       "      <td>162.0</td>\n",
       "      <td>2.5</td>\n",
       "      <td>1040.0</td>\n",
       "      <td>676.0</td>\n",
       "      <td>28</td>\n",
       "      <td>79.99</td>\n",
       "    </tr>\n",
       "    <tr>\n",
       "      <th>1</th>\n",
       "      <td>540.0</td>\n",
       "      <td>0.0</td>\n",
       "      <td>0.0</td>\n",
       "      <td>162.0</td>\n",
       "      <td>2.5</td>\n",
       "      <td>1055.0</td>\n",
       "      <td>676.0</td>\n",
       "      <td>28</td>\n",
       "      <td>61.89</td>\n",
       "    </tr>\n",
       "    <tr>\n",
       "      <th>2</th>\n",
       "      <td>332.5</td>\n",
       "      <td>142.5</td>\n",
       "      <td>0.0</td>\n",
       "      <td>228.0</td>\n",
       "      <td>0.0</td>\n",
       "      <td>932.0</td>\n",
       "      <td>594.0</td>\n",
       "      <td>270</td>\n",
       "      <td>40.27</td>\n",
       "    </tr>\n",
       "    <tr>\n",
       "      <th>3</th>\n",
       "      <td>332.5</td>\n",
       "      <td>142.5</td>\n",
       "      <td>0.0</td>\n",
       "      <td>228.0</td>\n",
       "      <td>0.0</td>\n",
       "      <td>932.0</td>\n",
       "      <td>594.0</td>\n",
       "      <td>365</td>\n",
       "      <td>41.05</td>\n",
       "    </tr>\n",
       "    <tr>\n",
       "      <th>4</th>\n",
       "      <td>198.6</td>\n",
       "      <td>132.4</td>\n",
       "      <td>0.0</td>\n",
       "      <td>192.0</td>\n",
       "      <td>0.0</td>\n",
       "      <td>978.4</td>\n",
       "      <td>825.5</td>\n",
       "      <td>360</td>\n",
       "      <td>44.30</td>\n",
       "    </tr>\n",
       "  </tbody>\n",
       "</table>\n",
       "</div>"
      ],
      "text/plain": [
       "   Cement  Blast Furnace Slag  Fly Ash  Water  Superplasticizer  \\\n",
       "0   540.0                 0.0      0.0  162.0               2.5   \n",
       "1   540.0                 0.0      0.0  162.0               2.5   \n",
       "2   332.5               142.5      0.0  228.0               0.0   \n",
       "3   332.5               142.5      0.0  228.0               0.0   \n",
       "4   198.6               132.4      0.0  192.0               0.0   \n",
       "\n",
       "   Coarse Aggregate  Fine Aggregate  Age  Strength  \n",
       "0            1040.0           676.0   28     79.99  \n",
       "1            1055.0           676.0   28     61.89  \n",
       "2             932.0           594.0  270     40.27  \n",
       "3             932.0           594.0  365     41.05  \n",
       "4             978.4           825.5  360     44.30  "
      ]
     },
     "execution_count": 21,
     "metadata": {},
     "output_type": "execute_result"
    }
   ],
   "source": [
    "filepath='https://s3-api.us-geo.objectstorage.softlayer.net/cf-courses-data/CognitiveClass/DL0101EN/labs/data/concrete_data.csv'\n",
    "concrete_data = pd.read_csv(filepath)\n",
    "\n",
    "concrete_data.head()"
   ]
  },
  {
   "cell_type": "markdown",
   "metadata": {},
   "source": [
    "So the first concrete sample has 540 cubic meter of cement, 0 cubic meter of blast furnace slag, 0 cubic meter of fly ash, 162 cubic meter of water, 2.5 cubic meter of superplaticizer, 1040 cubic meter of coarse aggregate, 676 cubic meter of fine aggregate. Such a concrete mix which is 28 days old, has a compressive strength of 79.99 MPa. \n"
   ]
  },
  {
   "cell_type": "markdown",
   "metadata": {},
   "source": [
    "#### Let's check how many data points we have\n"
   ]
  },
  {
   "cell_type": "code",
   "execution_count": 22,
   "metadata": {},
   "outputs": [
    {
     "data": {
      "text/plain": [
       "(1030, 9)"
      ]
     },
     "execution_count": 22,
     "metadata": {},
     "output_type": "execute_result"
    }
   ],
   "source": [
    "concrete_data.shape"
   ]
  },
  {
   "cell_type": "markdown",
   "metadata": {},
   "source": [
    "So, there are approximately 1000 samples to train our model on. Because of the few samples, we have to be careful not to overfit the training data.\n"
   ]
  },
  {
   "cell_type": "markdown",
   "metadata": {},
   "source": [
    "Let's check the dataset for any missing values.\n"
   ]
  },
  {
   "cell_type": "code",
   "execution_count": 23,
   "metadata": {},
   "outputs": [
    {
     "data": {
      "text/html": [
       "<div>\n",
       "<style scoped>\n",
       "    .dataframe tbody tr th:only-of-type {\n",
       "        vertical-align: middle;\n",
       "    }\n",
       "\n",
       "    .dataframe tbody tr th {\n",
       "        vertical-align: top;\n",
       "    }\n",
       "\n",
       "    .dataframe thead th {\n",
       "        text-align: right;\n",
       "    }\n",
       "</style>\n",
       "<table border=\"1\" class=\"dataframe\">\n",
       "  <thead>\n",
       "    <tr style=\"text-align: right;\">\n",
       "      <th></th>\n",
       "      <th>Cement</th>\n",
       "      <th>Blast Furnace Slag</th>\n",
       "      <th>Fly Ash</th>\n",
       "      <th>Water</th>\n",
       "      <th>Superplasticizer</th>\n",
       "      <th>Coarse Aggregate</th>\n",
       "      <th>Fine Aggregate</th>\n",
       "      <th>Age</th>\n",
       "      <th>Strength</th>\n",
       "    </tr>\n",
       "  </thead>\n",
       "  <tbody>\n",
       "    <tr>\n",
       "      <th>count</th>\n",
       "      <td>1030.000000</td>\n",
       "      <td>1030.000000</td>\n",
       "      <td>1030.000000</td>\n",
       "      <td>1030.000000</td>\n",
       "      <td>1030.000000</td>\n",
       "      <td>1030.000000</td>\n",
       "      <td>1030.000000</td>\n",
       "      <td>1030.000000</td>\n",
       "      <td>1030.000000</td>\n",
       "    </tr>\n",
       "    <tr>\n",
       "      <th>mean</th>\n",
       "      <td>281.167864</td>\n",
       "      <td>73.895825</td>\n",
       "      <td>54.188350</td>\n",
       "      <td>181.567282</td>\n",
       "      <td>6.204660</td>\n",
       "      <td>972.918932</td>\n",
       "      <td>773.580485</td>\n",
       "      <td>45.662136</td>\n",
       "      <td>35.817961</td>\n",
       "    </tr>\n",
       "    <tr>\n",
       "      <th>std</th>\n",
       "      <td>104.506364</td>\n",
       "      <td>86.279342</td>\n",
       "      <td>63.997004</td>\n",
       "      <td>21.354219</td>\n",
       "      <td>5.973841</td>\n",
       "      <td>77.753954</td>\n",
       "      <td>80.175980</td>\n",
       "      <td>63.169912</td>\n",
       "      <td>16.705742</td>\n",
       "    </tr>\n",
       "    <tr>\n",
       "      <th>min</th>\n",
       "      <td>102.000000</td>\n",
       "      <td>0.000000</td>\n",
       "      <td>0.000000</td>\n",
       "      <td>121.800000</td>\n",
       "      <td>0.000000</td>\n",
       "      <td>801.000000</td>\n",
       "      <td>594.000000</td>\n",
       "      <td>1.000000</td>\n",
       "      <td>2.330000</td>\n",
       "    </tr>\n",
       "    <tr>\n",
       "      <th>25%</th>\n",
       "      <td>192.375000</td>\n",
       "      <td>0.000000</td>\n",
       "      <td>0.000000</td>\n",
       "      <td>164.900000</td>\n",
       "      <td>0.000000</td>\n",
       "      <td>932.000000</td>\n",
       "      <td>730.950000</td>\n",
       "      <td>7.000000</td>\n",
       "      <td>23.710000</td>\n",
       "    </tr>\n",
       "    <tr>\n",
       "      <th>50%</th>\n",
       "      <td>272.900000</td>\n",
       "      <td>22.000000</td>\n",
       "      <td>0.000000</td>\n",
       "      <td>185.000000</td>\n",
       "      <td>6.400000</td>\n",
       "      <td>968.000000</td>\n",
       "      <td>779.500000</td>\n",
       "      <td>28.000000</td>\n",
       "      <td>34.445000</td>\n",
       "    </tr>\n",
       "    <tr>\n",
       "      <th>75%</th>\n",
       "      <td>350.000000</td>\n",
       "      <td>142.950000</td>\n",
       "      <td>118.300000</td>\n",
       "      <td>192.000000</td>\n",
       "      <td>10.200000</td>\n",
       "      <td>1029.400000</td>\n",
       "      <td>824.000000</td>\n",
       "      <td>56.000000</td>\n",
       "      <td>46.135000</td>\n",
       "    </tr>\n",
       "    <tr>\n",
       "      <th>max</th>\n",
       "      <td>540.000000</td>\n",
       "      <td>359.400000</td>\n",
       "      <td>200.100000</td>\n",
       "      <td>247.000000</td>\n",
       "      <td>32.200000</td>\n",
       "      <td>1145.000000</td>\n",
       "      <td>992.600000</td>\n",
       "      <td>365.000000</td>\n",
       "      <td>82.600000</td>\n",
       "    </tr>\n",
       "  </tbody>\n",
       "</table>\n",
       "</div>"
      ],
      "text/plain": [
       "            Cement  Blast Furnace Slag      Fly Ash        Water  \\\n",
       "count  1030.000000         1030.000000  1030.000000  1030.000000   \n",
       "mean    281.167864           73.895825    54.188350   181.567282   \n",
       "std     104.506364           86.279342    63.997004    21.354219   \n",
       "min     102.000000            0.000000     0.000000   121.800000   \n",
       "25%     192.375000            0.000000     0.000000   164.900000   \n",
       "50%     272.900000           22.000000     0.000000   185.000000   \n",
       "75%     350.000000          142.950000   118.300000   192.000000   \n",
       "max     540.000000          359.400000   200.100000   247.000000   \n",
       "\n",
       "       Superplasticizer  Coarse Aggregate  Fine Aggregate          Age  \\\n",
       "count       1030.000000       1030.000000     1030.000000  1030.000000   \n",
       "mean           6.204660        972.918932      773.580485    45.662136   \n",
       "std            5.973841         77.753954       80.175980    63.169912   \n",
       "min            0.000000        801.000000      594.000000     1.000000   \n",
       "25%            0.000000        932.000000      730.950000     7.000000   \n",
       "50%            6.400000        968.000000      779.500000    28.000000   \n",
       "75%           10.200000       1029.400000      824.000000    56.000000   \n",
       "max           32.200000       1145.000000      992.600000   365.000000   \n",
       "\n",
       "          Strength  \n",
       "count  1030.000000  \n",
       "mean     35.817961  \n",
       "std      16.705742  \n",
       "min       2.330000  \n",
       "25%      23.710000  \n",
       "50%      34.445000  \n",
       "75%      46.135000  \n",
       "max      82.600000  "
      ]
     },
     "execution_count": 23,
     "metadata": {},
     "output_type": "execute_result"
    }
   ],
   "source": [
    "concrete_data.describe()"
   ]
  },
  {
   "cell_type": "code",
   "execution_count": 24,
   "metadata": {},
   "outputs": [
    {
     "data": {
      "text/plain": [
       "Cement                0\n",
       "Blast Furnace Slag    0\n",
       "Fly Ash               0\n",
       "Water                 0\n",
       "Superplasticizer      0\n",
       "Coarse Aggregate      0\n",
       "Fine Aggregate        0\n",
       "Age                   0\n",
       "Strength              0\n",
       "dtype: int64"
      ]
     },
     "execution_count": 24,
     "metadata": {},
     "output_type": "execute_result"
    }
   ],
   "source": [
    "concrete_data.isnull().sum()"
   ]
  },
  {
   "cell_type": "markdown",
   "metadata": {},
   "source": [
    "The data looks very clean and is ready to be used to build our model.\n"
   ]
  },
  {
   "cell_type": "markdown",
   "metadata": {},
   "source": [
    "#### Split data into predictors and target\n"
   ]
  },
  {
   "cell_type": "markdown",
   "metadata": {},
   "source": [
    "The target variable in this problem is the concrete sample strength. Therefore, our predictors will be all the other columns.\n"
   ]
  },
  {
   "cell_type": "code",
   "execution_count": 25,
   "metadata": {},
   "outputs": [],
   "source": [
    "concrete_data_columns = concrete_data.columns"
   ]
  },
  {
   "cell_type": "code",
   "execution_count": 26,
   "metadata": {},
   "outputs": [],
   "source": [
    "predictors = concrete_data[concrete_data_columns[concrete_data_columns != 'Strength']] # all columns except Strength\n",
    "target = concrete_data['Strength'] # Strength column"
   ]
  },
  {
   "cell_type": "markdown",
   "metadata": {},
   "source": [
    "<a id=\"item2\"></a>\n"
   ]
  },
  {
   "cell_type": "markdown",
   "metadata": {},
   "source": [
    "Let's do a quick sanity check of the predictors and the target dataframes.\n"
   ]
  },
  {
   "cell_type": "code",
   "execution_count": 27,
   "metadata": {},
   "outputs": [
    {
     "data": {
      "text/html": [
       "<div>\n",
       "<style scoped>\n",
       "    .dataframe tbody tr th:only-of-type {\n",
       "        vertical-align: middle;\n",
       "    }\n",
       "\n",
       "    .dataframe tbody tr th {\n",
       "        vertical-align: top;\n",
       "    }\n",
       "\n",
       "    .dataframe thead th {\n",
       "        text-align: right;\n",
       "    }\n",
       "</style>\n",
       "<table border=\"1\" class=\"dataframe\">\n",
       "  <thead>\n",
       "    <tr style=\"text-align: right;\">\n",
       "      <th></th>\n",
       "      <th>Cement</th>\n",
       "      <th>Blast Furnace Slag</th>\n",
       "      <th>Fly Ash</th>\n",
       "      <th>Water</th>\n",
       "      <th>Superplasticizer</th>\n",
       "      <th>Coarse Aggregate</th>\n",
       "      <th>Fine Aggregate</th>\n",
       "      <th>Age</th>\n",
       "    </tr>\n",
       "  </thead>\n",
       "  <tbody>\n",
       "    <tr>\n",
       "      <th>0</th>\n",
       "      <td>540.0</td>\n",
       "      <td>0.0</td>\n",
       "      <td>0.0</td>\n",
       "      <td>162.0</td>\n",
       "      <td>2.5</td>\n",
       "      <td>1040.0</td>\n",
       "      <td>676.0</td>\n",
       "      <td>28</td>\n",
       "    </tr>\n",
       "    <tr>\n",
       "      <th>1</th>\n",
       "      <td>540.0</td>\n",
       "      <td>0.0</td>\n",
       "      <td>0.0</td>\n",
       "      <td>162.0</td>\n",
       "      <td>2.5</td>\n",
       "      <td>1055.0</td>\n",
       "      <td>676.0</td>\n",
       "      <td>28</td>\n",
       "    </tr>\n",
       "    <tr>\n",
       "      <th>2</th>\n",
       "      <td>332.5</td>\n",
       "      <td>142.5</td>\n",
       "      <td>0.0</td>\n",
       "      <td>228.0</td>\n",
       "      <td>0.0</td>\n",
       "      <td>932.0</td>\n",
       "      <td>594.0</td>\n",
       "      <td>270</td>\n",
       "    </tr>\n",
       "    <tr>\n",
       "      <th>3</th>\n",
       "      <td>332.5</td>\n",
       "      <td>142.5</td>\n",
       "      <td>0.0</td>\n",
       "      <td>228.0</td>\n",
       "      <td>0.0</td>\n",
       "      <td>932.0</td>\n",
       "      <td>594.0</td>\n",
       "      <td>365</td>\n",
       "    </tr>\n",
       "    <tr>\n",
       "      <th>4</th>\n",
       "      <td>198.6</td>\n",
       "      <td>132.4</td>\n",
       "      <td>0.0</td>\n",
       "      <td>192.0</td>\n",
       "      <td>0.0</td>\n",
       "      <td>978.4</td>\n",
       "      <td>825.5</td>\n",
       "      <td>360</td>\n",
       "    </tr>\n",
       "  </tbody>\n",
       "</table>\n",
       "</div>"
      ],
      "text/plain": [
       "   Cement  Blast Furnace Slag  Fly Ash  Water  Superplasticizer  \\\n",
       "0   540.0                 0.0      0.0  162.0               2.5   \n",
       "1   540.0                 0.0      0.0  162.0               2.5   \n",
       "2   332.5               142.5      0.0  228.0               0.0   \n",
       "3   332.5               142.5      0.0  228.0               0.0   \n",
       "4   198.6               132.4      0.0  192.0               0.0   \n",
       "\n",
       "   Coarse Aggregate  Fine Aggregate  Age  \n",
       "0            1040.0           676.0   28  \n",
       "1            1055.0           676.0   28  \n",
       "2             932.0           594.0  270  \n",
       "3             932.0           594.0  365  \n",
       "4             978.4           825.5  360  "
      ]
     },
     "execution_count": 27,
     "metadata": {},
     "output_type": "execute_result"
    }
   ],
   "source": [
    "predictors.head()"
   ]
  },
  {
   "cell_type": "code",
   "execution_count": 28,
   "metadata": {},
   "outputs": [
    {
     "data": {
      "text/plain": [
       "0    79.99\n",
       "1    61.89\n",
       "2    40.27\n",
       "3    41.05\n",
       "4    44.30\n",
       "Name: Strength, dtype: float64"
      ]
     },
     "execution_count": 28,
     "metadata": {},
     "output_type": "execute_result"
    }
   ],
   "source": [
    "target.head()"
   ]
  },
  {
   "cell_type": "markdown",
   "metadata": {},
   "source": [
    "Finally, the last step is to normalize the data by substracting the mean and dividing by the standard deviation.\n"
   ]
  },
  {
   "cell_type": "code",
   "execution_count": 29,
   "metadata": {},
   "outputs": [
    {
     "data": {
      "text/html": [
       "<div>\n",
       "<style scoped>\n",
       "    .dataframe tbody tr th:only-of-type {\n",
       "        vertical-align: middle;\n",
       "    }\n",
       "\n",
       "    .dataframe tbody tr th {\n",
       "        vertical-align: top;\n",
       "    }\n",
       "\n",
       "    .dataframe thead th {\n",
       "        text-align: right;\n",
       "    }\n",
       "</style>\n",
       "<table border=\"1\" class=\"dataframe\">\n",
       "  <thead>\n",
       "    <tr style=\"text-align: right;\">\n",
       "      <th></th>\n",
       "      <th>Cement</th>\n",
       "      <th>Blast Furnace Slag</th>\n",
       "      <th>Fly Ash</th>\n",
       "      <th>Water</th>\n",
       "      <th>Superplasticizer</th>\n",
       "      <th>Coarse Aggregate</th>\n",
       "      <th>Fine Aggregate</th>\n",
       "      <th>Age</th>\n",
       "    </tr>\n",
       "  </thead>\n",
       "  <tbody>\n",
       "    <tr>\n",
       "      <th>0</th>\n",
       "      <td>2.476712</td>\n",
       "      <td>-0.856472</td>\n",
       "      <td>-0.846733</td>\n",
       "      <td>-0.916319</td>\n",
       "      <td>-0.620147</td>\n",
       "      <td>0.862735</td>\n",
       "      <td>-1.217079</td>\n",
       "      <td>-0.279597</td>\n",
       "    </tr>\n",
       "    <tr>\n",
       "      <th>1</th>\n",
       "      <td>2.476712</td>\n",
       "      <td>-0.856472</td>\n",
       "      <td>-0.846733</td>\n",
       "      <td>-0.916319</td>\n",
       "      <td>-0.620147</td>\n",
       "      <td>1.055651</td>\n",
       "      <td>-1.217079</td>\n",
       "      <td>-0.279597</td>\n",
       "    </tr>\n",
       "    <tr>\n",
       "      <th>2</th>\n",
       "      <td>0.491187</td>\n",
       "      <td>0.795140</td>\n",
       "      <td>-0.846733</td>\n",
       "      <td>2.174405</td>\n",
       "      <td>-1.038638</td>\n",
       "      <td>-0.526262</td>\n",
       "      <td>-2.239829</td>\n",
       "      <td>3.551340</td>\n",
       "    </tr>\n",
       "    <tr>\n",
       "      <th>3</th>\n",
       "      <td>0.491187</td>\n",
       "      <td>0.795140</td>\n",
       "      <td>-0.846733</td>\n",
       "      <td>2.174405</td>\n",
       "      <td>-1.038638</td>\n",
       "      <td>-0.526262</td>\n",
       "      <td>-2.239829</td>\n",
       "      <td>5.055221</td>\n",
       "    </tr>\n",
       "    <tr>\n",
       "      <th>4</th>\n",
       "      <td>-0.790075</td>\n",
       "      <td>0.678079</td>\n",
       "      <td>-0.846733</td>\n",
       "      <td>0.488555</td>\n",
       "      <td>-1.038638</td>\n",
       "      <td>0.070492</td>\n",
       "      <td>0.647569</td>\n",
       "      <td>4.976069</td>\n",
       "    </tr>\n",
       "  </tbody>\n",
       "</table>\n",
       "</div>"
      ],
      "text/plain": [
       "     Cement  Blast Furnace Slag   Fly Ash     Water  Superplasticizer  \\\n",
       "0  2.476712           -0.856472 -0.846733 -0.916319         -0.620147   \n",
       "1  2.476712           -0.856472 -0.846733 -0.916319         -0.620147   \n",
       "2  0.491187            0.795140 -0.846733  2.174405         -1.038638   \n",
       "3  0.491187            0.795140 -0.846733  2.174405         -1.038638   \n",
       "4 -0.790075            0.678079 -0.846733  0.488555         -1.038638   \n",
       "\n",
       "   Coarse Aggregate  Fine Aggregate       Age  \n",
       "0          0.862735       -1.217079 -0.279597  \n",
       "1          1.055651       -1.217079 -0.279597  \n",
       "2         -0.526262       -2.239829  3.551340  \n",
       "3         -0.526262       -2.239829  5.055221  \n",
       "4          0.070492        0.647569  4.976069  "
      ]
     },
     "execution_count": 29,
     "metadata": {},
     "output_type": "execute_result"
    }
   ],
   "source": [
    "predictors_norm = (predictors - predictors.mean()) / predictors.std()\n",
    "predictors_norm.head()"
   ]
  },
  {
   "cell_type": "markdown",
   "metadata": {},
   "source": [
    "Let's save the number of predictors to *n_cols* since we will need this number when building our network.\n"
   ]
  },
  {
   "cell_type": "code",
   "execution_count": 30,
   "metadata": {},
   "outputs": [],
   "source": [
    "n_cols = predictors_norm.shape[1] # number of predictors"
   ]
  },
  {
   "cell_type": "markdown",
   "metadata": {},
   "source": [
    "<a id=\"item1\"></a>\n"
   ]
  },
  {
   "cell_type": "markdown",
   "metadata": {},
   "source": [
    "##  Import Keras Packages\n",
    "\n",
    "##### Let's import the rest of the packages from the Keras library that we will need to build our regression model.\n"
   ]
  },
  {
   "cell_type": "code",
   "execution_count": 31,
   "metadata": {},
   "outputs": [],
   "source": [
    "from keras.models import Sequential\n",
    "from keras.layers import Dense\n",
    "from keras.layers import Input"
   ]
  },
  {
   "cell_type": "markdown",
   "metadata": {},
   "source": [
    "## Build a Neural Network\n"
   ]
  },
  {
   "cell_type": "markdown",
   "metadata": {},
   "source": [
    "Let's define a function that defines our regression model for us so that we can conveniently call it to create our model.\n"
   ]
  },
  {
   "cell_type": "code",
   "execution_count": 32,
   "metadata": {},
   "outputs": [],
   "source": [
    "# define regression model\n",
    "def regression_model():\n",
    "    # create model\n",
    "    model = Sequential()\n",
    "    model.add(Input(shape=(n_cols,)))\n",
    "    model.add(Dense(50, activation='relu'))\n",
    "    model.add(Dense(50, activation='relu'))\n",
    "    model.add(Dense(1))\n",
    "    \n",
    "    # compile model\n",
    "    model.compile(optimizer='adam', loss='mean_squared_error')\n",
    "    return model"
   ]
  },
  {
   "cell_type": "markdown",
   "metadata": {},
   "source": [
    "The above function create a model that has two hidden layers, each of 50 hidden units.\n"
   ]
  },
  {
   "cell_type": "markdown",
   "metadata": {},
   "source": [
    "## Train and Test the Network\n"
   ]
  },
  {
   "cell_type": "markdown",
   "metadata": {},
   "source": [
    "Let's call the function now to create our model.\n"
   ]
  },
  {
   "cell_type": "code",
   "execution_count": 33,
   "metadata": {},
   "outputs": [],
   "source": [
    "# build the model\n",
    "model = regression_model()"
   ]
  },
  {
   "cell_type": "markdown",
   "metadata": {},
   "source": [
    "Next, we will train and test the model at the same time using the *fit* method. We will leave out 30% of the data for validation and we will train the model for 100 epochs.\n"
   ]
  },
  {
   "cell_type": "code",
   "execution_count": 34,
   "metadata": {},
   "outputs": [
    {
     "name": "stdout",
     "output_type": "stream",
     "text": [
      "Epoch 1/100\n",
      "23/23 - 1s - 46ms/step - loss: 1613.8680 - val_loss: 1110.9596\n",
      "Epoch 2/100\n",
      "23/23 - 0s - 7ms/step - loss: 1456.2079 - val_loss: 952.6182\n",
      "Epoch 3/100\n",
      "23/23 - 0s - 7ms/step - loss: 1200.7218 - val_loss: 727.6385\n",
      "Epoch 4/100\n",
      "23/23 - 0s - 7ms/step - loss: 861.1804 - val_loss: 480.1887\n",
      "Epoch 5/100\n",
      "23/23 - 0s - 7ms/step - loss: 526.3571 - val_loss: 289.4722\n",
      "Epoch 6/100\n",
      "23/23 - 0s - 6ms/step - loss: 314.2599 - val_loss: 213.9133\n",
      "Epoch 7/100\n",
      "23/23 - 0s - 6ms/step - loss: 244.7444 - val_loss: 198.1712\n",
      "Epoch 8/100\n",
      "23/23 - 0s - 6ms/step - loss: 226.5925 - val_loss: 195.6720\n",
      "Epoch 9/100\n",
      "23/23 - 0s - 6ms/step - loss: 214.0783 - val_loss: 195.4156\n",
      "Epoch 10/100\n",
      "23/23 - 0s - 6ms/step - loss: 204.1667 - val_loss: 189.2217\n",
      "Epoch 11/100\n",
      "23/23 - 0s - 7ms/step - loss: 195.9233 - val_loss: 185.2371\n",
      "Epoch 12/100\n",
      "23/23 - 0s - 7ms/step - loss: 189.4860 - val_loss: 184.1685\n",
      "Epoch 13/100\n",
      "23/23 - 0s - 7ms/step - loss: 183.3355 - val_loss: 177.8660\n",
      "Epoch 14/100\n",
      "23/23 - 0s - 6ms/step - loss: 178.6072 - val_loss: 178.0710\n",
      "Epoch 15/100\n",
      "23/23 - 0s - 6ms/step - loss: 173.8322 - val_loss: 173.3823\n",
      "Epoch 16/100\n",
      "23/23 - 0s - 6ms/step - loss: 169.6276 - val_loss: 172.2853\n",
      "Epoch 17/100\n",
      "23/23 - 0s - 7ms/step - loss: 165.7732 - val_loss: 169.2824\n",
      "Epoch 18/100\n",
      "23/23 - 0s - 13ms/step - loss: 162.5402 - val_loss: 169.4096\n",
      "Epoch 19/100\n",
      "23/23 - 0s - 8ms/step - loss: 159.7846 - val_loss: 166.1705\n",
      "Epoch 20/100\n",
      "23/23 - 0s - 6ms/step - loss: 156.8928 - val_loss: 167.9691\n",
      "Epoch 21/100\n",
      "23/23 - 0s - 6ms/step - loss: 154.1071 - val_loss: 161.8379\n",
      "Epoch 22/100\n",
      "23/23 - 0s - 6ms/step - loss: 151.3979 - val_loss: 164.6981\n",
      "Epoch 23/100\n",
      "23/23 - 0s - 6ms/step - loss: 149.0476 - val_loss: 162.0136\n",
      "Epoch 24/100\n",
      "23/23 - 0s - 6ms/step - loss: 146.8179 - val_loss: 159.2004\n",
      "Epoch 25/100\n",
      "23/23 - 0s - 6ms/step - loss: 145.3466 - val_loss: 162.2059\n",
      "Epoch 26/100\n",
      "23/23 - 0s - 6ms/step - loss: 143.2728 - val_loss: 160.2130\n",
      "Epoch 27/100\n",
      "23/23 - 0s - 6ms/step - loss: 141.4505 - val_loss: 160.1853\n",
      "Epoch 28/100\n",
      "23/23 - 0s - 6ms/step - loss: 139.6896 - val_loss: 158.6541\n",
      "Epoch 29/100\n",
      "23/23 - 0s - 6ms/step - loss: 137.8350 - val_loss: 160.5359\n",
      "Epoch 30/100\n",
      "23/23 - 0s - 6ms/step - loss: 135.9825 - val_loss: 158.5751\n",
      "Epoch 31/100\n",
      "23/23 - 0s - 6ms/step - loss: 133.9416 - val_loss: 157.0580\n",
      "Epoch 32/100\n",
      "23/23 - 0s - 6ms/step - loss: 132.0373 - val_loss: 157.3238\n",
      "Epoch 33/100\n",
      "23/23 - 0s - 6ms/step - loss: 130.2326 - val_loss: 158.7889\n",
      "Epoch 34/100\n",
      "23/23 - 0s - 6ms/step - loss: 128.6064 - val_loss: 157.4456\n",
      "Epoch 35/100\n",
      "23/23 - 0s - 6ms/step - loss: 125.8570 - val_loss: 154.1377\n",
      "Epoch 36/100\n",
      "23/23 - 0s - 6ms/step - loss: 123.9274 - val_loss: 153.3546\n",
      "Epoch 37/100\n",
      "23/23 - 0s - 6ms/step - loss: 122.4837 - val_loss: 154.0994\n",
      "Epoch 38/100\n",
      "23/23 - 0s - 6ms/step - loss: 119.2189 - val_loss: 151.3760\n",
      "Epoch 39/100\n",
      "23/23 - 0s - 6ms/step - loss: 116.9067 - val_loss: 152.0582\n",
      "Epoch 40/100\n",
      "23/23 - 0s - 6ms/step - loss: 114.7833 - val_loss: 150.6795\n",
      "Epoch 41/100\n",
      "23/23 - 0s - 6ms/step - loss: 112.4918 - val_loss: 146.8007\n",
      "Epoch 42/100\n",
      "23/23 - 0s - 7ms/step - loss: 109.4206 - val_loss: 144.9759\n",
      "Epoch 43/100\n",
      "23/23 - 0s - 7ms/step - loss: 106.5144 - val_loss: 139.0936\n",
      "Epoch 44/100\n",
      "23/23 - 0s - 7ms/step - loss: 104.3201 - val_loss: 139.9789\n",
      "Epoch 45/100\n",
      "23/23 - 0s - 6ms/step - loss: 100.5516 - val_loss: 137.9569\n",
      "Epoch 46/100\n",
      "23/23 - 0s - 7ms/step - loss: 97.8806 - val_loss: 133.3807\n",
      "Epoch 47/100\n",
      "23/23 - 0s - 6ms/step - loss: 94.8414 - val_loss: 131.3687\n",
      "Epoch 48/100\n",
      "23/23 - 0s - 6ms/step - loss: 92.2967 - val_loss: 131.2327\n",
      "Epoch 49/100\n",
      "23/23 - 0s - 6ms/step - loss: 90.2922 - val_loss: 135.8588\n",
      "Epoch 50/100\n",
      "23/23 - 0s - 6ms/step - loss: 87.5498 - val_loss: 124.2314\n",
      "Epoch 51/100\n",
      "23/23 - 0s - 6ms/step - loss: 84.7717 - val_loss: 125.9415\n",
      "Epoch 52/100\n",
      "23/23 - 0s - 12ms/step - loss: 82.1052 - val_loss: 127.6068\n",
      "Epoch 53/100\n",
      "23/23 - 0s - 12ms/step - loss: 79.6354 - val_loss: 123.9583\n",
      "Epoch 54/100\n",
      "23/23 - 0s - 6ms/step - loss: 77.3235 - val_loss: 118.9783\n",
      "Epoch 55/100\n",
      "23/23 - 0s - 6ms/step - loss: 75.4709 - val_loss: 121.5869\n",
      "Epoch 56/100\n",
      "23/23 - 0s - 6ms/step - loss: 72.5048 - val_loss: 124.2615\n",
      "Epoch 57/100\n",
      "23/23 - 0s - 6ms/step - loss: 70.3623 - val_loss: 120.6119\n",
      "Epoch 58/100\n",
      "23/23 - 0s - 6ms/step - loss: 68.2060 - val_loss: 116.6182\n",
      "Epoch 59/100\n",
      "23/23 - 0s - 6ms/step - loss: 66.7586 - val_loss: 108.8607\n",
      "Epoch 60/100\n",
      "23/23 - 0s - 6ms/step - loss: 64.8444 - val_loss: 113.1709\n",
      "Epoch 61/100\n",
      "23/23 - 0s - 6ms/step - loss: 62.7020 - val_loss: 112.4301\n",
      "Epoch 62/100\n",
      "23/23 - 0s - 6ms/step - loss: 61.4129 - val_loss: 108.9339\n",
      "Epoch 63/100\n",
      "23/23 - 0s - 6ms/step - loss: 58.8473 - val_loss: 111.5979\n",
      "Epoch 64/100\n",
      "23/23 - 0s - 6ms/step - loss: 57.0568 - val_loss: 108.2056\n",
      "Epoch 65/100\n",
      "23/23 - 0s - 6ms/step - loss: 55.6714 - val_loss: 114.2214\n",
      "Epoch 66/100\n",
      "23/23 - 0s - 6ms/step - loss: 53.9653 - val_loss: 108.2756\n",
      "Epoch 67/100\n",
      "23/23 - 0s - 6ms/step - loss: 52.6339 - val_loss: 115.3804\n",
      "Epoch 68/100\n",
      "23/23 - 0s - 6ms/step - loss: 51.7778 - val_loss: 109.6746\n",
      "Epoch 69/100\n",
      "23/23 - 0s - 6ms/step - loss: 49.8101 - val_loss: 108.9046\n",
      "Epoch 70/100\n",
      "23/23 - 0s - 6ms/step - loss: 48.7542 - val_loss: 107.2625\n",
      "Epoch 71/100\n",
      "23/23 - 0s - 6ms/step - loss: 47.6394 - val_loss: 110.0224\n",
      "Epoch 72/100\n",
      "23/23 - 0s - 6ms/step - loss: 46.4332 - val_loss: 121.5596\n",
      "Epoch 73/100\n",
      "23/23 - 0s - 9ms/step - loss: 45.7133 - val_loss: 113.1284\n",
      "Epoch 74/100\n",
      "23/23 - 0s - 12ms/step - loss: 44.4260 - val_loss: 114.0598\n",
      "Epoch 75/100\n",
      "23/23 - 0s - 6ms/step - loss: 43.6025 - val_loss: 111.9998\n",
      "Epoch 76/100\n",
      "23/23 - 0s - 6ms/step - loss: 42.7009 - val_loss: 120.4851\n",
      "Epoch 77/100\n",
      "23/23 - 0s - 6ms/step - loss: 42.4090 - val_loss: 115.4069\n",
      "Epoch 78/100\n",
      "23/23 - 0s - 6ms/step - loss: 41.4632 - val_loss: 119.7411\n",
      "Epoch 79/100\n",
      "23/23 - 0s - 6ms/step - loss: 40.8198 - val_loss: 123.8506\n",
      "Epoch 80/100\n",
      "23/23 - 0s - 6ms/step - loss: 40.4410 - val_loss: 128.3622\n",
      "Epoch 81/100\n",
      "23/23 - 0s - 6ms/step - loss: 39.7110 - val_loss: 125.6670\n",
      "Epoch 82/100\n",
      "23/23 - 0s - 6ms/step - loss: 39.7179 - val_loss: 125.8229\n",
      "Epoch 83/100\n",
      "23/23 - 0s - 6ms/step - loss: 38.9610 - val_loss: 123.1020\n",
      "Epoch 84/100\n",
      "23/23 - 0s - 6ms/step - loss: 38.6908 - val_loss: 119.7603\n",
      "Epoch 85/100\n",
      "23/23 - 0s - 6ms/step - loss: 38.3876 - val_loss: 123.2742\n",
      "Epoch 86/100\n",
      "23/23 - 0s - 6ms/step - loss: 38.1714 - val_loss: 117.5127\n",
      "Epoch 87/100\n",
      "23/23 - 0s - 6ms/step - loss: 37.6621 - val_loss: 134.9311\n",
      "Epoch 88/100\n",
      "23/23 - 0s - 6ms/step - loss: 36.6268 - val_loss: 125.6912\n",
      "Epoch 89/100\n",
      "23/23 - 0s - 6ms/step - loss: 36.4534 - val_loss: 123.2061\n",
      "Epoch 90/100\n",
      "23/23 - 0s - 6ms/step - loss: 36.1937 - val_loss: 131.2760\n",
      "Epoch 91/100\n",
      "23/23 - 0s - 6ms/step - loss: 35.8397 - val_loss: 132.3087\n",
      "Epoch 92/100\n",
      "23/23 - 0s - 6ms/step - loss: 35.2595 - val_loss: 121.2314\n",
      "Epoch 93/100\n",
      "23/23 - 0s - 6ms/step - loss: 35.2237 - val_loss: 120.6619\n",
      "Epoch 94/100\n",
      "23/23 - 0s - 6ms/step - loss: 34.7646 - val_loss: 126.5044\n",
      "Epoch 95/100\n",
      "23/23 - 0s - 6ms/step - loss: 34.2605 - val_loss: 129.3210\n",
      "Epoch 96/100\n",
      "23/23 - 0s - 7ms/step - loss: 34.1020 - val_loss: 119.8630\n",
      "Epoch 97/100\n",
      "23/23 - 0s - 6ms/step - loss: 33.7937 - val_loss: 130.7914\n",
      "Epoch 98/100\n",
      "23/23 - 0s - 6ms/step - loss: 33.3238 - val_loss: 128.3012\n",
      "Epoch 99/100\n",
      "23/23 - 0s - 6ms/step - loss: 33.2563 - val_loss: 132.2022\n",
      "Epoch 100/100\n",
      "23/23 - 0s - 6ms/step - loss: 33.1037 - val_loss: 133.1237\n"
     ]
    },
    {
     "data": {
      "text/plain": [
       "<keras.src.callbacks.history.History at 0x7da208730b00>"
      ]
     },
     "execution_count": 34,
     "metadata": {},
     "output_type": "execute_result"
    }
   ],
   "source": [
    "# fit the model\n",
    "model.fit(predictors_norm, target, validation_split=0.3, epochs=100, verbose=2)"
   ]
  },
  {
   "cell_type": "markdown",
   "metadata": {},
   "source": [
    "<strong>You can refer to this [link](https://keras.io/models/sequential/) to learn about other functions that you can use for prediction or evaluation.</strong>\n"
   ]
  },
  {
   "cell_type": "markdown",
   "metadata": {},
   "source": [
    "Feel free to vary the following and note what impact each change has on the model's performance:\n",
    "\n",
    "1. Increase or decreate number of neurons in hidden layers\n",
    "2. Add more hidden layers\n",
    "3. Increase number of epochs\n"
   ]
  },
  {
   "cell_type": "markdown",
   "metadata": {},
   "source": [
    "<h3>Practice Exercise 1</h3>\n"
   ]
  },
  {
   "cell_type": "markdown",
   "metadata": {},
   "source": [
    "Now using the same dateset,try to recreate regression model featuring five hidden layers, each with 50 nodes and ReLU activation functions, a single output layer, optimized using the Adam optimizer.\n"
   ]
  },
  {
   "cell_type": "code",
   "execution_count": 38,
   "metadata": {},
   "outputs": [],
   "source": [
    "def regression_model():\n",
    "    input_colm = predictors_norm.shape[1] # Number of input features\n",
    "    # create model\n",
    "    model = Sequential()\n",
    "    model.add(Input(shape=(input_colm,)))  # Set the number of input features\n",
    "    model.add(Dense(50, activation='relu'))\n",
    "    model.add(Dense(50, activation='relu'))\n",
    "    model.add(Dense(50, activation='relu'))\n",
    "    model.add(Dense(50, activation='relu'))\n",
    "    model.add(Dense(50, activation='relu'))\n",
    "    model.add(Dense(1))  # Output layer\n",
    "    # compile model\n",
    "    model.compile(optimizer='adam', loss='mean_squared_error')\n",
    "    return model\n"
   ]
  },
  {
   "cell_type": "markdown",
   "metadata": {},
   "source": [
    "Double-click <b>here</b> for the solution.\n",
    "\n",
    "<!-- Your answer is below:\n",
    "def regression_model():\n",
    "    input_colm = predictors_norm.shape[1] # Number of input features\n",
    "    # create model\n",
    "    model = Sequential()\n",
    "    model.add(Input(shape=(input_colm,)))  # Set the number of input features \n",
    "    model.add(Dense(50, activation='relu'))  \n",
    "    model.add(Dense(50, activation='relu'))\n",
    "    model.add(Dense(50, activation='relu')) \n",
    "    model.add(Dense(50, activation='relu'))\n",
    "    model.add(Dense(50, activation='relu'))  \n",
    "    model.add(Dense(1))  # Output layer\n",
    "    \n",
    "    # compile model\n",
    "    model.compile(optimizer='adam', loss='mean_squared_error')\n",
    "    return model\n",
    "\n",
    "-->\n"
   ]
  },
  {
   "cell_type": "markdown",
   "metadata": {},
   "source": [
    "<h3>Practice Exercise 2</h3>\n"
   ]
  },
  {
   "cell_type": "markdown",
   "metadata": {},
   "source": [
    " Train and evaluate the model simultaneously using the fit() method by reserving 10% of the data for validation and training the model for 100 epochs\n"
   ]
  },
  {
   "cell_type": "code",
   "execution_count": 39,
   "metadata": {},
   "outputs": [
    {
     "name": "stdout",
     "output_type": "stream",
     "text": [
      "Epoch 1/100\n",
      "29/29 - 2s - 60ms/step - loss: 1498.6902 - val_loss: 895.1356\n",
      "Epoch 2/100\n",
      "29/29 - 0s - 8ms/step - loss: 587.0634 - val_loss: 223.6279\n",
      "Epoch 3/100\n",
      "29/29 - 0s - 7ms/step - loss: 229.2899 - val_loss: 180.1204\n",
      "Epoch 4/100\n",
      "29/29 - 0s - 7ms/step - loss: 203.1631 - val_loss: 176.2511\n",
      "Epoch 5/100\n",
      "29/29 - 0s - 6ms/step - loss: 179.3135 - val_loss: 166.9610\n",
      "Epoch 6/100\n",
      "29/29 - 0s - 6ms/step - loss: 163.9418 - val_loss: 159.0988\n",
      "Epoch 7/100\n",
      "29/29 - 0s - 6ms/step - loss: 149.4146 - val_loss: 145.7584\n",
      "Epoch 8/100\n",
      "29/29 - 0s - 6ms/step - loss: 136.3238 - val_loss: 138.7637\n",
      "Epoch 9/100\n",
      "29/29 - 0s - 6ms/step - loss: 124.9637 - val_loss: 126.2779\n",
      "Epoch 10/100\n",
      "29/29 - 0s - 6ms/step - loss: 111.3019 - val_loss: 117.0091\n",
      "Epoch 11/100\n",
      "29/29 - 0s - 6ms/step - loss: 99.1402 - val_loss: 96.2649\n",
      "Epoch 12/100\n",
      "29/29 - 0s - 6ms/step - loss: 89.3747 - val_loss: 88.2702\n",
      "Epoch 13/100\n",
      "29/29 - 0s - 6ms/step - loss: 79.9227 - val_loss: 78.0072\n",
      "Epoch 14/100\n",
      "29/29 - 0s - 6ms/step - loss: 71.4704 - val_loss: 83.1981\n",
      "Epoch 15/100\n",
      "29/29 - 0s - 6ms/step - loss: 68.0532 - val_loss: 70.5845\n",
      "Epoch 16/100\n",
      "29/29 - 0s - 6ms/step - loss: 62.8579 - val_loss: 66.7658\n",
      "Epoch 17/100\n",
      "29/29 - 0s - 6ms/step - loss: 58.1308 - val_loss: 61.9792\n",
      "Epoch 18/100\n",
      "29/29 - 0s - 6ms/step - loss: 54.2315 - val_loss: 53.2094\n",
      "Epoch 19/100\n",
      "29/29 - 0s - 6ms/step - loss: 52.3650 - val_loss: 56.8981\n",
      "Epoch 20/100\n",
      "29/29 - 0s - 6ms/step - loss: 49.2040 - val_loss: 53.7470\n",
      "Epoch 21/100\n",
      "29/29 - 0s - 7ms/step - loss: 47.4321 - val_loss: 42.6961\n",
      "Epoch 22/100\n",
      "29/29 - 0s - 6ms/step - loss: 47.4302 - val_loss: 44.2983\n",
      "Epoch 23/100\n",
      "29/29 - 0s - 6ms/step - loss: 42.9748 - val_loss: 41.9266\n",
      "Epoch 24/100\n",
      "29/29 - 0s - 6ms/step - loss: 40.9116 - val_loss: 40.0726\n",
      "Epoch 25/100\n",
      "29/29 - 0s - 6ms/step - loss: 41.3802 - val_loss: 43.9458\n",
      "Epoch 26/100\n",
      "29/29 - 0s - 6ms/step - loss: 40.1976 - val_loss: 36.9938\n",
      "Epoch 27/100\n",
      "29/29 - 0s - 7ms/step - loss: 36.2065 - val_loss: 35.0038\n",
      "Epoch 28/100\n",
      "29/29 - 0s - 6ms/step - loss: 35.3681 - val_loss: 32.0582\n",
      "Epoch 29/100\n",
      "29/29 - 0s - 6ms/step - loss: 34.8319 - val_loss: 34.5048\n",
      "Epoch 30/100\n",
      "29/29 - 0s - 6ms/step - loss: 34.0161 - val_loss: 32.4825\n",
      "Epoch 31/100\n",
      "29/29 - 0s - 6ms/step - loss: 32.1369 - val_loss: 33.0263\n",
      "Epoch 32/100\n",
      "29/29 - 0s - 6ms/step - loss: 32.2702 - val_loss: 33.1396\n",
      "Epoch 33/100\n",
      "29/29 - 0s - 6ms/step - loss: 32.5097 - val_loss: 32.1513\n",
      "Epoch 34/100\n",
      "29/29 - 0s - 6ms/step - loss: 31.0636 - val_loss: 28.2129\n",
      "Epoch 35/100\n",
      "29/29 - 0s - 6ms/step - loss: 29.5100 - val_loss: 31.3562\n",
      "Epoch 36/100\n",
      "29/29 - 0s - 6ms/step - loss: 27.8288 - val_loss: 27.8725\n",
      "Epoch 37/100\n",
      "29/29 - 0s - 6ms/step - loss: 29.4816 - val_loss: 32.4830\n",
      "Epoch 38/100\n",
      "29/29 - 0s - 6ms/step - loss: 27.6188 - val_loss: 26.9711\n",
      "Epoch 39/100\n",
      "29/29 - 0s - 6ms/step - loss: 26.9999 - val_loss: 26.6383\n",
      "Epoch 40/100\n",
      "29/29 - 0s - 6ms/step - loss: 26.9031 - val_loss: 25.0131\n",
      "Epoch 41/100\n",
      "29/29 - 0s - 6ms/step - loss: 25.5518 - val_loss: 27.2301\n",
      "Epoch 42/100\n",
      "29/29 - 0s - 6ms/step - loss: 24.2749 - val_loss: 24.1794\n",
      "Epoch 43/100\n",
      "29/29 - 0s - 6ms/step - loss: 24.9729 - val_loss: 38.6434\n",
      "Epoch 44/100\n",
      "29/29 - 0s - 7ms/step - loss: 25.9057 - val_loss: 33.4721\n",
      "Epoch 45/100\n",
      "29/29 - 0s - 7ms/step - loss: 22.6234 - val_loss: 25.1291\n",
      "Epoch 46/100\n",
      "29/29 - 0s - 7ms/step - loss: 22.7067 - val_loss: 29.7143\n",
      "Epoch 47/100\n",
      "29/29 - 0s - 6ms/step - loss: 22.5243 - val_loss: 24.9198\n",
      "Epoch 48/100\n",
      "29/29 - 0s - 6ms/step - loss: 21.6833 - val_loss: 23.2233\n",
      "Epoch 49/100\n",
      "29/29 - 0s - 6ms/step - loss: 22.0368 - val_loss: 25.1080\n",
      "Epoch 50/100\n",
      "29/29 - 0s - 6ms/step - loss: 21.5699 - val_loss: 23.2155\n",
      "Epoch 51/100\n",
      "29/29 - 0s - 6ms/step - loss: 20.3816 - val_loss: 25.7766\n",
      "Epoch 52/100\n",
      "29/29 - 0s - 6ms/step - loss: 22.9421 - val_loss: 23.4788\n",
      "Epoch 53/100\n",
      "29/29 - 0s - 6ms/step - loss: 20.5037 - val_loss: 23.2421\n",
      "Epoch 54/100\n",
      "29/29 - 0s - 6ms/step - loss: 19.4225 - val_loss: 26.3322\n",
      "Epoch 55/100\n",
      "29/29 - 0s - 6ms/step - loss: 19.8174 - val_loss: 25.1409\n",
      "Epoch 56/100\n",
      "29/29 - 0s - 6ms/step - loss: 19.5809 - val_loss: 21.5541\n",
      "Epoch 57/100\n",
      "29/29 - 0s - 6ms/step - loss: 19.6360 - val_loss: 21.6251\n",
      "Epoch 58/100\n",
      "29/29 - 0s - 6ms/step - loss: 19.8775 - val_loss: 22.9344\n",
      "Epoch 59/100\n",
      "29/29 - 0s - 6ms/step - loss: 22.0269 - val_loss: 24.0148\n",
      "Epoch 60/100\n",
      "29/29 - 0s - 6ms/step - loss: 20.8737 - val_loss: 22.8776\n",
      "Epoch 61/100\n",
      "29/29 - 0s - 6ms/step - loss: 19.2861 - val_loss: 20.8185\n",
      "Epoch 62/100\n",
      "29/29 - 0s - 6ms/step - loss: 17.6475 - val_loss: 22.3425\n",
      "Epoch 63/100\n",
      "29/29 - 0s - 6ms/step - loss: 17.3813 - val_loss: 21.5292\n",
      "Epoch 64/100\n",
      "29/29 - 0s - 6ms/step - loss: 16.7835 - val_loss: 27.5047\n",
      "Epoch 65/100\n",
      "29/29 - 0s - 6ms/step - loss: 17.6135 - val_loss: 29.6028\n",
      "Epoch 66/100\n",
      "29/29 - 0s - 6ms/step - loss: 16.8472 - val_loss: 21.0639\n",
      "Epoch 67/100\n",
      "29/29 - 0s - 6ms/step - loss: 16.7735 - val_loss: 22.8018\n",
      "Epoch 68/100\n",
      "29/29 - 0s - 6ms/step - loss: 16.2450 - val_loss: 19.9728\n",
      "Epoch 69/100\n",
      "29/29 - 0s - 7ms/step - loss: 15.6941 - val_loss: 22.6551\n",
      "Epoch 70/100\n",
      "29/29 - 0s - 6ms/step - loss: 16.8289 - val_loss: 23.6070\n",
      "Epoch 71/100\n",
      "29/29 - 0s - 6ms/step - loss: 15.5055 - val_loss: 21.4847\n",
      "Epoch 72/100\n",
      "29/29 - 0s - 6ms/step - loss: 16.0688 - val_loss: 20.3784\n",
      "Epoch 73/100\n",
      "29/29 - 0s - 6ms/step - loss: 16.4522 - val_loss: 21.4512\n",
      "Epoch 74/100\n",
      "29/29 - 0s - 6ms/step - loss: 16.4549 - val_loss: 23.1407\n",
      "Epoch 75/100\n",
      "29/29 - 0s - 6ms/step - loss: 17.5522 - val_loss: 20.4711\n",
      "Epoch 76/100\n",
      "29/29 - 0s - 7ms/step - loss: 14.7470 - val_loss: 20.5553\n",
      "Epoch 77/100\n",
      "29/29 - 0s - 6ms/step - loss: 14.1497 - val_loss: 19.1784\n",
      "Epoch 78/100\n",
      "29/29 - 0s - 6ms/step - loss: 14.6101 - val_loss: 19.3050\n",
      "Epoch 79/100\n",
      "29/29 - 0s - 6ms/step - loss: 15.0312 - val_loss: 23.6520\n",
      "Epoch 80/100\n",
      "29/29 - 0s - 6ms/step - loss: 15.9320 - val_loss: 21.1624\n",
      "Epoch 81/100\n",
      "29/29 - 0s - 6ms/step - loss: 15.8828 - val_loss: 22.7779\n",
      "Epoch 82/100\n",
      "29/29 - 0s - 6ms/step - loss: 15.8706 - val_loss: 29.6005\n",
      "Epoch 83/100\n",
      "29/29 - 0s - 6ms/step - loss: 14.4448 - val_loss: 18.9553\n",
      "Epoch 84/100\n",
      "29/29 - 0s - 6ms/step - loss: 13.6651 - val_loss: 22.7004\n",
      "Epoch 85/100\n",
      "29/29 - 0s - 6ms/step - loss: 13.8788 - val_loss: 18.6368\n",
      "Epoch 86/100\n",
      "29/29 - 0s - 6ms/step - loss: 13.6627 - val_loss: 19.9625\n",
      "Epoch 87/100\n",
      "29/29 - 0s - 6ms/step - loss: 14.1044 - val_loss: 17.7265\n",
      "Epoch 88/100\n",
      "29/29 - 0s - 7ms/step - loss: 14.2088 - val_loss: 20.6670\n",
      "Epoch 89/100\n",
      "29/29 - 0s - 6ms/step - loss: 16.9962 - val_loss: 21.0317\n",
      "Epoch 90/100\n",
      "29/29 - 0s - 6ms/step - loss: 14.6067 - val_loss: 17.2170\n",
      "Epoch 91/100\n",
      "29/29 - 0s - 6ms/step - loss: 15.4363 - val_loss: 18.8907\n",
      "Epoch 92/100\n",
      "29/29 - 0s - 7ms/step - loss: 13.2902 - val_loss: 20.4014\n",
      "Epoch 93/100\n",
      "29/29 - 0s - 6ms/step - loss: 13.6080 - val_loss: 17.6863\n",
      "Epoch 94/100\n",
      "29/29 - 0s - 6ms/step - loss: 13.2494 - val_loss: 18.8156\n",
      "Epoch 95/100\n",
      "29/29 - 0s - 6ms/step - loss: 15.5342 - val_loss: 17.0672\n",
      "Epoch 96/100\n",
      "29/29 - 0s - 6ms/step - loss: 13.8750 - val_loss: 20.3407\n",
      "Epoch 97/100\n",
      "29/29 - 0s - 6ms/step - loss: 13.9195 - val_loss: 16.8550\n",
      "Epoch 98/100\n",
      "29/29 - 0s - 6ms/step - loss: 12.9908 - val_loss: 18.5575\n",
      "Epoch 99/100\n",
      "29/29 - 0s - 6ms/step - loss: 13.6950 - val_loss: 18.6961\n",
      "Epoch 100/100\n",
      "29/29 - 0s - 7ms/step - loss: 12.1100 - val_loss: 17.6578\n"
     ]
    },
    {
     "data": {
      "text/plain": [
       "<keras.src.callbacks.history.History at 0x7da20868e720>"
      ]
     },
     "execution_count": 39,
     "metadata": {},
     "output_type": "execute_result"
    }
   ],
   "source": [
    "# build the model\n",
    "model = regression_model()\n",
    "model.fit(predictors_norm, target, validation_split=0.1, epochs=100, verbose=2)\n"
   ]
  },
  {
   "cell_type": "markdown",
   "metadata": {},
   "source": [
    "Double-click <b>here</b> for the solution.\n",
    "\n",
    "<!-- Your answer is below:\n",
    "# build the model\n",
    "model = regression_model()\n",
    "model.fit(predictors_norm, target, validation_split=0.1, epochs=100, verbose=2)\n",
    "\n",
    "-->\n"
   ]
  },
  {
   "cell_type": "markdown",
   "metadata": {},
   "source": [
    "Based on the results, we notice that:\n",
    "\n",
    "- Adding more hidden layers to the model increases its capacity to learn and represent complex relationships within the data. This allows the model to better identify, as a result, the model becomes more effective at fitting the training data and potentially improving its predictions.\n",
    "- By reducing the proportion of data set aside for validation and using a larger portion for training, the model has access to more examples to learn from. This additional training data helps the model improve its understanding of the underlying trends, which can lead to better overall performance.  \n"
   ]
  },
  {
   "cell_type": "markdown",
   "metadata": {},
   "source": [
    "### Thank you for completing this lab!\n",
    "\n",
    "This notebook was created by [Alex Aklson](https://www.linkedin.com/in/aklson/). I hope you found this lab interesting and educational. Feel free to contact me if you have any questions!\n"
   ]
  },
  {
   "cell_type": "markdown",
   "metadata": {},
   "source": [
    "<!--\n",
    "## Change Log\n",
    "\n",
    "|  Date (YYYY-MM-DD) |  Version | Changed By  |  Change Description |\n",
    "|---|---|---|---|\n",
    "| 2024-11-20  | 3.0  | Aman  |  Updated the library versions to current |\n",
    "| 2020-09-21  | 2.0  | Srishti  |  Migrated Lab to Markdown and added to course repo in GitLab |\n",
    "\n",
    "\n",
    "\n",
    "<hr>\n",
    "\n",
    "## <h3 align=\"center\"> © IBM Corporation. All rights reserved. <h3/>\n"
   ]
  },
  {
   "cell_type": "markdown",
   "metadata": {},
   "source": [
    "## <h3 align=\"center\"> &#169; IBM Corporation. All rights reserved. <h3/>\n",
    "\n"
   ]
  }
 ],
 "metadata": {
  "kernelspec": {
   "display_name": "Python 3 (ipykernel)",
   "language": "python",
   "name": "python3"
  },
  "language_info": {
   "codemirror_mode": {
    "name": "ipython",
    "version": 3
   },
   "file_extension": ".py",
   "mimetype": "text/x-python",
   "name": "python",
   "nbconvert_exporter": "python",
   "pygments_lexer": "ipython3",
   "version": "3.12.8"
  },
  "prev_pub_hash": "1318243f5c57a871ada11a63a887b187b71b9e224c59cc45cb9fac7ca19844fc"
 },
 "nbformat": 4,
 "nbformat_minor": 4
}
