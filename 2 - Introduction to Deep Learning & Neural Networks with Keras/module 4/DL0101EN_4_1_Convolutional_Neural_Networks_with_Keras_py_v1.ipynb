{
  "cells": [
    {
      "cell_type": "markdown",
      "metadata": {
        "id": "6a259076-5a31-482e-b598-0138c6bfe11a"
      },
      "source": [
        "<a href=\"https://cognitiveclass.ai\"><img src=\"https://cf-courses-data.s3.us.cloud-object-storage.appdomain.cloud/IBMDeveloperSkillsNetwork-DL0101EN-SkillsNetwork/images/IDSN-logo.png\" width=\"400\"> </a>\n",
        "\n",
        "# Convolutional Neural Networks with Keras\n",
        "\n",
        "Estimated time needed **30** mins\n"
      ]
    },
    {
      "cell_type": "markdown",
      "metadata": {
        "id": "2a86cd7f-c191-4c78-92a5-2479b13cba2b"
      },
      "source": [
        "In this lab, we will learn how to use the Keras library to build convolutional neural networks. We will also use the popular MNIST dataset and we will compare our results to using a conventional neural network.\n"
      ]
    },
    {
      "cell_type": "markdown",
      "metadata": {
        "id": "a7c948e3-995c-45c0-86f0-8916fbee6b02"
      },
      "source": [
        "## Objectives for this Notebook    \n",
        "* How to use the Keras library to build convolutional neural networks\n",
        "* Convolutional neural network with one set of convolutional and pooling layers\n",
        "* Convolutional neural network with two sets of convolutional and pooling layers\n",
        "\n"
      ]
    },
    {
      "cell_type": "markdown",
      "metadata": {
        "id": "82e267c1-74e4-4f30-be50-15b58d592add"
      },
      "source": [
        "## Table of Contents\n",
        "\n",
        "<div class=\"alert alert-block alert-info\" style=\"margin-top: 20px\">\n",
        "\n",
        "<font size = 3>\n",
        "      \n",
        "1. <a href=\"#Import-Keras-and-Packages\">Import Keras and Packages</a>   \n",
        "2. <a href=\"#Convolutional-Neural-Network-with-One-Set-of-Convolutional-and-Pooling-Layers\">Convolutional Neural Network with One Set of Convolutional and Pooling Layers</a>  \n",
        "3. <a href=\"#Convolutional-Neural-Network-with-Two-Sets-of-Convolutional-and-Pooling-Layers\">Convolutional Neural Network with Two Sets of Convolutional and Pooling Layers</a>  \n",
        "\n",
        "</font>\n",
        "</div>\n"
      ]
    },
    {
      "cell_type": "markdown",
      "metadata": {
        "id": "a2725718-c839-403f-8017-236d760c20c0"
      },
      "source": [
        "### Install the necessary libraries\n"
      ]
    },
    {
      "cell_type": "markdown",
      "metadata": {
        "id": "5860a2ee-ec49-4add-ad79-556d6960495a"
      },
      "source": [
        "Let's start by installing the keras libraries and the packages that we would need to build a neural network.\n"
      ]
    },
    {
      "cell_type": "code",
      "metadata": {
        "id": "dc5e450c-e81e-42b1-a564-7d59bd960067"
      },
      "outputs": [],
      "source": [
        "# All Libraries required for this lab are listed below. The libraries need to be installed on Skills Network Labs.\n",
        "# If you run this notebook on a different environment, e.g. your desktop, you may want to install these.\n",
        "!pip install numpy==2.0.2\n",
        "!pip install pandas==2.2.2\n",
        "!pip install tensorflow_cpu==2.18.0\n",
        "!pip install matplotlib==3.9.2"
      ],
      "execution_count": null
    },
    {
      "cell_type": "markdown",
      "metadata": {
        "id": "df48ab35-3ce3-4d73-9e9f-142c1c272773"
      },
      "source": [
        "#### Suppress the tensorflow warning messages\n",
        "We use the following code to  suppress the warning messages due to use of CPU architechture for tensoflow.\n",
        "You may want to **comment out** these lines if you are using the GPU architechture\n"
      ]
    },
    {
      "cell_type": "code",
      "metadata": {
        "id": "c4d79a7c-6cbc-4b7c-8f6e-23c4d3dbec4f"
      },
      "outputs": [],
      "source": [
        "import os\n",
        "os.environ['TF_ENABLE_ONEDNN_OPTS'] = '0'\n",
        "os.environ['TF_CPP_MIN_LOG_LEVEL'] = '2'"
      ],
      "execution_count": null
    },
    {
      "cell_type": "markdown",
      "metadata": {
        "id": "c8cb5959-7529-4024-aabe-711e02b1a573"
      },
      "source": [
        "## Import Keras and Packages\n"
      ]
    },
    {
      "cell_type": "code",
      "metadata": {
        "id": "54f7f5de-dd4f-4160-97a7-41fc13358596"
      },
      "outputs": [],
      "source": [
        "import keras\n",
        "from keras.models import Sequential\n",
        "from keras.layers import Dense\n",
        "from keras.layers import Input\n",
        "from keras.utils import to_categorical"
      ],
      "execution_count": 1
    },
    {
      "cell_type": "markdown",
      "metadata": {
        "id": "6ae6ee1f-c5f9-4136-a661-d0ecad7bc618"
      },
      "source": [
        "When working with convolutional neural networks in particular, we will need additional packages.\n"
      ]
    },
    {
      "cell_type": "code",
      "metadata": {
        "id": "59965020-f741-41d0-8b70-00253641ff4c"
      },
      "outputs": [],
      "source": [
        "from keras.layers import Conv2D # to add convolutional layers\n",
        "from keras.layers import MaxPooling2D # to add pooling layers\n",
        "from keras.layers import Flatten # to flatten data for fully connected layers"
      ],
      "execution_count": 2
    },
    {
      "cell_type": "markdown",
      "metadata": {
        "id": "b4be0cd5-9e2a-44f7-a6de-1fdc46923fb4"
      },
      "source": [
        "## Convolutional Neural Network with One Set of Convolutional and Pooling Layers\n"
      ]
    },
    {
      "cell_type": "code",
      "metadata": {
        "colab": {
          "base_uri": "https://localhost:8080/"
        },
        "id": "21cd5320-20a6-4e90-89be-81af7990a4c5",
        "outputId": "3b3524f9-2550-451b-de99-05e78184bb44"
      },
      "outputs": [
        {
          "output_type": "stream",
          "name": "stdout",
          "text": [
            "Downloading data from https://storage.googleapis.com/tensorflow/tf-keras-datasets/mnist.npz\n",
            "\u001b[1m11490434/11490434\u001b[0m \u001b[32m━━━━━━━━━━━━━━━━━━━━\u001b[0m\u001b[37m\u001b[0m \u001b[1m2s\u001b[0m 0us/step\n"
          ]
        }
      ],
      "source": [
        "# import data\n",
        "from keras.datasets import mnist\n",
        "\n",
        "# load data\n",
        "(X_train, y_train), (X_test, y_test) = mnist.load_data()\n",
        "\n",
        "# reshape to be [samples][pixels][width][height]\n",
        "X_train = X_train.reshape(X_train.shape[0], 28, 28, 1).astype('float32')\n",
        "X_test = X_test.reshape(X_test.shape[0], 28, 28, 1).astype('float32')"
      ],
      "execution_count": 3
    },
    {
      "cell_type": "markdown",
      "metadata": {
        "id": "82a804cb-2ea6-4925-94a1-ef4ba5a2ef1d"
      },
      "source": [
        "Let's normalize the pixel values to be between 0 and 1\n"
      ]
    },
    {
      "cell_type": "code",
      "metadata": {
        "id": "26b2fc47-fbfb-42ce-bfe7-d1cda99d4988"
      },
      "outputs": [],
      "source": [
        "X_train = X_train / 255 # normalize training data\n",
        "X_test = X_test / 255 # normalize test data"
      ],
      "execution_count": 4
    },
    {
      "cell_type": "markdown",
      "metadata": {
        "id": "58622fd9-b0ff-408c-baf5-4db94f8a0a97"
      },
      "source": [
        "Next, let's convert the target variable into binary categories\n"
      ]
    },
    {
      "cell_type": "code",
      "metadata": {
        "id": "c01c40ef-75ba-4c87-954a-4f5ecef7b41f"
      },
      "outputs": [],
      "source": [
        "y_train = to_categorical(y_train)\n",
        "y_test = to_categorical(y_test)\n",
        "\n",
        "num_classes = y_test.shape[1] # number of categories"
      ],
      "execution_count": 5
    },
    {
      "cell_type": "markdown",
      "metadata": {
        "id": "2c42c05a-ae9e-44bc-ab58-5b5c55c6cc43"
      },
      "source": [
        "Next, let's define a function that creates our model. Let's start with one set of convolutional and pooling layers.\n"
      ]
    },
    {
      "cell_type": "code",
      "metadata": {
        "id": "678716df-28c6-4944-872b-2ab253d7ea68"
      },
      "outputs": [],
      "source": [
        "def convolutional_model():\n",
        "\n",
        "    # create model\n",
        "    model = Sequential()\n",
        "    model.add(Input(shape=(28, 28, 1)))\n",
        "    model.add(Conv2D(16, (5, 5), strides=(1, 1), activation='relu'))\n",
        "    model.add(MaxPooling2D(pool_size=(2, 2), strides=(2, 2)))\n",
        "\n",
        "    model.add(Flatten())\n",
        "    model.add(Dense(100, activation='relu'))\n",
        "    model.add(Dense(num_classes, activation='softmax'))\n",
        "\n",
        "    # compile model\n",
        "    model.compile(optimizer='adam', loss='categorical_crossentropy',  metrics=['accuracy'])\n",
        "    return model"
      ],
      "execution_count": 6
    },
    {
      "cell_type": "markdown",
      "metadata": {
        "id": "d94c41fa-0fae-482c-b4f5-0729d31569c2"
      },
      "source": [
        "Finally, let's call the function to create the model, and then let's train it and evaluate it.\n"
      ]
    },
    {
      "cell_type": "code",
      "metadata": {
        "colab": {
          "base_uri": "https://localhost:8080/"
        },
        "id": "095aa859-c641-4d6d-abb6-a1712a64f89b",
        "outputId": "8eeca446-3a39-41aa-f4c1-9569748a39b2"
      },
      "outputs": [
        {
          "output_type": "stream",
          "name": "stdout",
          "text": [
            "Epoch 1/10\n",
            "300/300 - 5s - 16ms/step - accuracy: 0.9160 - loss: 0.2963 - val_accuracy: 0.9687 - val_loss: 0.1081\n",
            "Epoch 2/10\n",
            "300/300 - 1s - 4ms/step - accuracy: 0.9757 - loss: 0.0863 - val_accuracy: 0.9805 - val_loss: 0.0601\n",
            "Epoch 3/10\n",
            "300/300 - 1s - 5ms/step - accuracy: 0.9833 - loss: 0.0568 - val_accuracy: 0.9835 - val_loss: 0.0488\n",
            "Epoch 4/10\n",
            "300/300 - 2s - 7ms/step - accuracy: 0.9869 - loss: 0.0436 - val_accuracy: 0.9846 - val_loss: 0.0458\n",
            "Epoch 5/10\n",
            "300/300 - 1s - 3ms/step - accuracy: 0.9895 - loss: 0.0357 - val_accuracy: 0.9866 - val_loss: 0.0401\n",
            "Epoch 6/10\n",
            "300/300 - 1s - 4ms/step - accuracy: 0.9911 - loss: 0.0292 - val_accuracy: 0.9875 - val_loss: 0.0383\n",
            "Epoch 7/10\n",
            "300/300 - 1s - 3ms/step - accuracy: 0.9925 - loss: 0.0242 - val_accuracy: 0.9882 - val_loss: 0.0384\n",
            "Epoch 8/10\n",
            "300/300 - 1s - 4ms/step - accuracy: 0.9940 - loss: 0.0197 - val_accuracy: 0.9878 - val_loss: 0.0349\n",
            "Epoch 9/10\n",
            "300/300 - 1s - 4ms/step - accuracy: 0.9956 - loss: 0.0154 - val_accuracy: 0.9854 - val_loss: 0.0469\n",
            "Epoch 10/10\n",
            "300/300 - 1s - 4ms/step - accuracy: 0.9955 - loss: 0.0150 - val_accuracy: 0.9888 - val_loss: 0.0351\n",
            "Accuracy: 0.9887999892234802 \n",
            " Error: 1.1200010776519775\n"
          ]
        }
      ],
      "source": [
        "# build the model\n",
        "model = convolutional_model()\n",
        "\n",
        "# fit the model\n",
        "model.fit(X_train, y_train, validation_data=(X_test, y_test), epochs=10, batch_size=200, verbose=2)\n",
        "\n",
        "# evaluate the model\n",
        "scores = model.evaluate(X_test, y_test, verbose=0)\n",
        "print(\"Accuracy: {} \\n Error: {}\".format(scores[1], 100-scores[1]*100))"
      ],
      "execution_count": 7
    },
    {
      "cell_type": "markdown",
      "metadata": {
        "id": "bdadb672-3dd5-47c8-b2aa-b573faec12ab"
      },
      "source": [
        "------------------------------------------\n"
      ]
    },
    {
      "cell_type": "markdown",
      "metadata": {
        "id": "8346bc8d-b06d-4e59-ab6d-38ab51f7e3a2"
      },
      "source": [
        "## Convolutional Neural Network with Two Sets of Convolutional and Pooling Layers\n"
      ]
    },
    {
      "cell_type": "markdown",
      "metadata": {
        "id": "ed6adec1-b389-4d45-a94b-c3f378106a02"
      },
      "source": [
        "Let's redefine our convolutional model so that it has two convolutional and pooling layers instead of just one layer of each.\n"
      ]
    },
    {
      "cell_type": "code",
      "metadata": {
        "id": "1238bc6e-7594-48f2-b239-83fd36c4838d"
      },
      "outputs": [],
      "source": [
        "def convolutional_model():\n",
        "\n",
        "    # create model\n",
        "    model = Sequential()\n",
        "    model.add(Input(shape=(28, 28, 1)))\n",
        "    model.add(Conv2D(16, (5, 5), activation='relu'))\n",
        "    model.add(MaxPooling2D(pool_size=(2, 2), strides=(2, 2)))\n",
        "\n",
        "    model.add(Conv2D(8, (2, 2), activation='relu'))\n",
        "    model.add(MaxPooling2D(pool_size=(2, 2), strides=(2, 2)))\n",
        "\n",
        "    model.add(Flatten())\n",
        "    model.add(Dense(100, activation='relu'))\n",
        "    model.add(Dense(num_classes, activation='softmax'))\n",
        "\n",
        "    # Compile model\n",
        "    model.compile(optimizer='adam', loss='categorical_crossentropy',  metrics=['accuracy'])\n",
        "    return model"
      ],
      "execution_count": 8
    },
    {
      "cell_type": "markdown",
      "metadata": {
        "id": "ad1e634f-0a4a-475b-95da-b6e322a83c46"
      },
      "source": [
        "Now, let's call the function to create our new convolutional neural network, and then let's train it and evaluate it.\n"
      ]
    },
    {
      "cell_type": "code",
      "metadata": {
        "colab": {
          "base_uri": "https://localhost:8080/"
        },
        "id": "3c0465aa-295a-49e7-92bb-050edb59e3df",
        "outputId": "87786bfb-884a-4762-a678-dd1b2eb50cc9"
      },
      "outputs": [
        {
          "output_type": "stream",
          "name": "stdout",
          "text": [
            "Epoch 1/10\n",
            "300/300 - 4s - 13ms/step - accuracy: 0.8589 - loss: 0.4873 - val_accuracy: 0.9597 - val_loss: 0.1370\n",
            "Epoch 2/10\n",
            "300/300 - 1s - 4ms/step - accuracy: 0.9632 - loss: 0.1199 - val_accuracy: 0.9740 - val_loss: 0.0836\n",
            "Epoch 3/10\n",
            "300/300 - 1s - 4ms/step - accuracy: 0.9734 - loss: 0.0858 - val_accuracy: 0.9810 - val_loss: 0.0641\n",
            "Epoch 4/10\n",
            "300/300 - 1s - 4ms/step - accuracy: 0.9782 - loss: 0.0715 - val_accuracy: 0.9832 - val_loss: 0.0539\n",
            "Epoch 5/10\n",
            "300/300 - 1s - 4ms/step - accuracy: 0.9817 - loss: 0.0609 - val_accuracy: 0.9858 - val_loss: 0.0480\n",
            "Epoch 6/10\n",
            "300/300 - 1s - 5ms/step - accuracy: 0.9840 - loss: 0.0533 - val_accuracy: 0.9835 - val_loss: 0.0529\n",
            "Epoch 7/10\n",
            "300/300 - 1s - 4ms/step - accuracy: 0.9852 - loss: 0.0476 - val_accuracy: 0.9842 - val_loss: 0.0498\n",
            "Epoch 8/10\n",
            "300/300 - 2s - 8ms/step - accuracy: 0.9869 - loss: 0.0433 - val_accuracy: 0.9854 - val_loss: 0.0445\n",
            "Epoch 9/10\n",
            "300/300 - 1s - 4ms/step - accuracy: 0.9882 - loss: 0.0391 - val_accuracy: 0.9853 - val_loss: 0.0452\n",
            "Epoch 10/10\n",
            "300/300 - 1s - 3ms/step - accuracy: 0.9886 - loss: 0.0369 - val_accuracy: 0.9873 - val_loss: 0.0403\n",
            "Accuracy: 0.9872999787330627 \n",
            " Error: 1.2700021266937256\n"
          ]
        }
      ],
      "source": [
        "# build the model\n",
        "model = convolutional_model()\n",
        "\n",
        "# fit the model\n",
        "model.fit(X_train, y_train, validation_data=(X_test, y_test), epochs=10, batch_size=200, verbose=2)\n",
        "\n",
        "# evaluate the model\n",
        "scores = model.evaluate(X_test, y_test, verbose=0)\n",
        "print(\"Accuracy: {} \\n Error: {}\".format(scores[1], 100-scores[1]*100))"
      ],
      "execution_count": 9
    },
    {
      "cell_type": "markdown",
      "metadata": {
        "id": "1461351b-e85e-431a-94f7-7a803ad091f0"
      },
      "source": [
        "<h3>Practice Exercise 1</h3>\n"
      ]
    },
    {
      "cell_type": "markdown",
      "metadata": {
        "id": "b552fc94-0831-4569-bc0e-c5b9b153b70d"
      },
      "source": [
        "Let's see how batch size affects the time required and accuracy of the model training.\n",
        "For this, you can try to change batch_size to 1024 and check it's effect on accuracy\n"
      ]
    },
    {
      "cell_type": "code",
      "metadata": {
        "colab": {
          "base_uri": "https://localhost:8080/"
        },
        "id": "f01355d9-0484-4b16-8419-fd6e64640806",
        "outputId": "1217a59c-1603-4920-e351-fc02b2872bb2"
      },
      "outputs": [
        {
          "output_type": "stream",
          "name": "stdout",
          "text": [
            "Epoch 1/10\n",
            "59/59 - 5s - 92ms/step - accuracy: 0.6592 - loss: 1.3114 - val_accuracy: 0.8920 - val_loss: 0.3877\n",
            "Epoch 2/10\n",
            "59/59 - 0s - 8ms/step - accuracy: 0.9190 - loss: 0.2877 - val_accuracy: 0.9454 - val_loss: 0.1938\n",
            "Epoch 3/10\n",
            "59/59 - 1s - 12ms/step - accuracy: 0.9493 - loss: 0.1759 - val_accuracy: 0.9627 - val_loss: 0.1280\n",
            "Epoch 4/10\n",
            "59/59 - 1s - 10ms/step - accuracy: 0.9620 - loss: 0.1307 - val_accuracy: 0.9701 - val_loss: 0.1021\n",
            "Epoch 5/10\n",
            "59/59 - 1s - 12ms/step - accuracy: 0.9678 - loss: 0.1084 - val_accuracy: 0.9743 - val_loss: 0.0844\n",
            "Epoch 6/10\n",
            "59/59 - 0s - 8ms/step - accuracy: 0.9719 - loss: 0.0929 - val_accuracy: 0.9757 - val_loss: 0.0767\n",
            "Epoch 7/10\n",
            "59/59 - 0s - 8ms/step - accuracy: 0.9743 - loss: 0.0857 - val_accuracy: 0.9787 - val_loss: 0.0702\n",
            "Epoch 8/10\n",
            "59/59 - 1s - 11ms/step - accuracy: 0.9769 - loss: 0.0767 - val_accuracy: 0.9784 - val_loss: 0.0654\n",
            "Epoch 9/10\n",
            "59/59 - 0s - 8ms/step - accuracy: 0.9789 - loss: 0.0710 - val_accuracy: 0.9806 - val_loss: 0.0617\n",
            "Epoch 10/10\n",
            "59/59 - 1s - 10ms/step - accuracy: 0.9798 - loss: 0.0668 - val_accuracy: 0.9807 - val_loss: 0.0595\n",
            "Accuracy: 0.9807000160217285 \n",
            " Error: 1.9299983978271484\n"
          ]
        }
      ],
      "source": [
        "# build the model\n",
        "model = convolutional_model()\n",
        "\n",
        "# fit the model\n",
        "model.fit(X_train, y_train, validation_data=(X_test, y_test), epochs=10, batch_size=1024, verbose=2)\n",
        "\n",
        "# evaluate the model\n",
        "scores = model.evaluate(X_test, y_test, verbose=0)\n",
        "print(\"Accuracy: {} \\n Error: {}\".format(scores[1], 100-scores[1]*100))"
      ],
      "execution_count": 11
    },
    {
      "cell_type": "markdown",
      "metadata": {
        "id": "5bb6cc35-d6d9-4d82-97ff-44f59a729e0f"
      },
      "source": [
        "Double-click <b>here</b> for the solution.\n",
        "\n",
        "<!-- Your answer is below:\n",
        "# build the model\n",
        "model = convolutional_model()\n",
        "\n",
        "# fit the model\n",
        "model.fit(X_train, y_train, validation_data=(X_test, y_test), epochs=10, batch_size=1024, verbose=2)\n",
        "\n",
        "# evaluate the model\n",
        "scores = model.evaluate(X_test, y_test, verbose=0)\n",
        "print(\"Accuracy: {} \\n Error: {}\".format(scores[1], 100-scores[1]*100))\n",
        "-->\n"
      ]
    },
    {
      "cell_type": "markdown",
      "metadata": {
        "id": "2a03ad9b-825d-47ae-be77-e3bf1885c08e"
      },
      "source": [
        "<h3>Practice Exercise 2</h3>\n"
      ]
    },
    {
      "cell_type": "markdown",
      "metadata": {
        "id": "5989a3e9-0d9c-4769-a33d-fc22447a82bd"
      },
      "source": [
        "Now, let's see how number of epochs  affect the time required and accuracy of the model training.\n",
        "For this, you can keep the batch_size=1024 and epochs=25 and check it's effect on accuracy\n"
      ]
    },
    {
      "cell_type": "code",
      "metadata": {
        "colab": {
          "base_uri": "https://localhost:8080/"
        },
        "id": "f9e95cec-0929-4e21-82f2-88b829c59460",
        "outputId": "129228f3-d610-4029-b576-e3863b96a0fd"
      },
      "outputs": [
        {
          "output_type": "stream",
          "name": "stdout",
          "text": [
            "Epoch 1/25\n",
            "59/59 - 5s - 81ms/step - accuracy: 0.6381 - loss: 1.3059 - val_accuracy: 0.8828 - val_loss: 0.4116\n",
            "Epoch 2/25\n",
            "59/59 - 2s - 33ms/step - accuracy: 0.9090 - loss: 0.3063 - val_accuracy: 0.9373 - val_loss: 0.2087\n",
            "Epoch 3/25\n",
            "59/59 - 1s - 9ms/step - accuracy: 0.9428 - loss: 0.1915 - val_accuracy: 0.9573 - val_loss: 0.1438\n",
            "Epoch 4/25\n",
            "59/59 - 1s - 11ms/step - accuracy: 0.9578 - loss: 0.1418 - val_accuracy: 0.9668 - val_loss: 0.1157\n",
            "Epoch 5/25\n",
            "59/59 - 0s - 8ms/step - accuracy: 0.9660 - loss: 0.1149 - val_accuracy: 0.9745 - val_loss: 0.0917\n",
            "Epoch 6/25\n",
            "59/59 - 1s - 10ms/step - accuracy: 0.9713 - loss: 0.0969 - val_accuracy: 0.9758 - val_loss: 0.0813\n",
            "Epoch 7/25\n",
            "59/59 - 1s - 10ms/step - accuracy: 0.9743 - loss: 0.0857 - val_accuracy: 0.9778 - val_loss: 0.0711\n",
            "Epoch 8/25\n",
            "59/59 - 0s - 7ms/step - accuracy: 0.9768 - loss: 0.0768 - val_accuracy: 0.9787 - val_loss: 0.0672\n",
            "Epoch 9/25\n",
            "59/59 - 1s - 11ms/step - accuracy: 0.9791 - loss: 0.0688 - val_accuracy: 0.9807 - val_loss: 0.0607\n",
            "Epoch 10/25\n",
            "59/59 - 1s - 10ms/step - accuracy: 0.9808 - loss: 0.0627 - val_accuracy: 0.9825 - val_loss: 0.0554\n",
            "Epoch 11/25\n",
            "59/59 - 0s - 8ms/step - accuracy: 0.9818 - loss: 0.0577 - val_accuracy: 0.9829 - val_loss: 0.0531\n",
            "Epoch 12/25\n",
            "59/59 - 0s - 8ms/step - accuracy: 0.9833 - loss: 0.0545 - val_accuracy: 0.9834 - val_loss: 0.0526\n",
            "Epoch 13/25\n",
            "59/59 - 0s - 8ms/step - accuracy: 0.9848 - loss: 0.0507 - val_accuracy: 0.9842 - val_loss: 0.0481\n",
            "Epoch 14/25\n",
            "59/59 - 0s - 8ms/step - accuracy: 0.9855 - loss: 0.0474 - val_accuracy: 0.9854 - val_loss: 0.0454\n",
            "Epoch 15/25\n",
            "59/59 - 0s - 8ms/step - accuracy: 0.9866 - loss: 0.0442 - val_accuracy: 0.9853 - val_loss: 0.0441\n",
            "Epoch 16/25\n",
            "59/59 - 0s - 8ms/step - accuracy: 0.9876 - loss: 0.0426 - val_accuracy: 0.9858 - val_loss: 0.0427\n",
            "Epoch 17/25\n",
            "59/59 - 0s - 8ms/step - accuracy: 0.9881 - loss: 0.0397 - val_accuracy: 0.9869 - val_loss: 0.0404\n",
            "Epoch 18/25\n",
            "59/59 - 1s - 13ms/step - accuracy: 0.9884 - loss: 0.0382 - val_accuracy: 0.9866 - val_loss: 0.0421\n",
            "Epoch 19/25\n",
            "59/59 - 1s - 19ms/step - accuracy: 0.9893 - loss: 0.0356 - val_accuracy: 0.9836 - val_loss: 0.0449\n",
            "Epoch 20/25\n",
            "59/59 - 1s - 9ms/step - accuracy: 0.9894 - loss: 0.0348 - val_accuracy: 0.9873 - val_loss: 0.0390\n",
            "Epoch 21/25\n",
            "59/59 - 1s - 11ms/step - accuracy: 0.9898 - loss: 0.0336 - val_accuracy: 0.9863 - val_loss: 0.0388\n",
            "Epoch 22/25\n",
            "59/59 - 0s - 8ms/step - accuracy: 0.9908 - loss: 0.0313 - val_accuracy: 0.9864 - val_loss: 0.0430\n",
            "Epoch 23/25\n",
            "59/59 - 1s - 10ms/step - accuracy: 0.9910 - loss: 0.0310 - val_accuracy: 0.9863 - val_loss: 0.0390\n",
            "Epoch 24/25\n",
            "59/59 - 1s - 10ms/step - accuracy: 0.9916 - loss: 0.0282 - val_accuracy: 0.9864 - val_loss: 0.0405\n",
            "Epoch 25/25\n",
            "59/59 - 1s - 11ms/step - accuracy: 0.9921 - loss: 0.0272 - val_accuracy: 0.9876 - val_loss: 0.0372\n",
            "Accuracy: 0.9876000285148621 \n",
            " Error: 1.239997148513794\n"
          ]
        }
      ],
      "source": [
        "# build the model\n",
        "model = convolutional_model()\n",
        "\n",
        "# fit the model\n",
        "model.fit(X_train, y_train, validation_data=(X_test, y_test), epochs=25, batch_size=1024, verbose=2)\n",
        "\n",
        "# evaluate the model\n",
        "scores = model.evaluate(X_test, y_test, verbose=0)\n",
        "print(\"Accuracy: {} \\n Error: {}\".format(scores[1], 100-scores[1]*100))"
      ],
      "execution_count": 12
    },
    {
      "cell_type": "markdown",
      "metadata": {
        "id": "51c6e6da-7d0d-4090-9fb8-98f22d051bdb"
      },
      "source": [
        "Double-click <b>here</b> for the solution.\n",
        "\n",
        "<!-- Your answer is below:\n",
        "# build the model\n",
        "model = convolutional_model()\n",
        "\n",
        "# fit the model\n",
        "model.fit(X_train, y_train, validation_data=(X_test, y_test), epochs=25, batch_size=1024, verbose=2)\n",
        "\n",
        "# evaluate the model\n",
        "scores = model.evaluate(X_test, y_test, verbose=0)\n",
        "print(\"Accuracy: {} \\n Error: {}\".format(scores[1], 100-scores[1]*100))\n",
        "\n",
        "\n",
        "    -->\n"
      ]
    },
    {
      "cell_type": "markdown",
      "metadata": {
        "id": "844cc9d3-9e42-433a-9767-c03f0c1eb77d"
      },
      "source": [
        "### Thank you for completing this lab!\n",
        "\n",
        "This notebook was created by [Alex Aklson](https://www.linkedin.com/in/aklson/). I hope you found this lab interesting and educational. Feel free to contact me if you have any questions!\n"
      ]
    },
    {
      "cell_type": "markdown",
      "metadata": {
        "id": "5e3e2e36-9537-40c4-80bc-24e056e0b3c0"
      },
      "source": [
        "<!--\n",
        "## Change Log\n",
        "\n",
        "|  Date (YYYY-MM-DD) |  Version | Changed By  |  Change Description |\n",
        "|---|---|---|---|\n",
        "| 2024-11-20  | 3.0  | Aman  |  Updated the library versions to current |\n",
        "| 2020-09-21  | 2.0  | Srishti  |  Migrated Lab to Markdown and added to course repo in GitLab |\n",
        "\n",
        "\n",
        "\n",
        "<hr>\n",
        "\n",
        "## <h3 align=\"center\"> © IBM Corporation. All rights reserved. <h3/>\n"
      ]
    },
    {
      "cell_type": "markdown",
      "metadata": {
        "id": "ab20d78f-6c72-4aad-b35d-e2e770c39d5e"
      },
      "source": [
        "## <h3 align=\"center\"> &#169; IBM Corporation. All rights reserved. <h3/>\n",
        "\n"
      ]
    }
  ],
  "metadata": {
    "kernelspec": {
      "display_name": "Python 3",
      "name": "python3"
    },
    "language_info": {
      "name": "python",
      "version": "3.12.8",
      "mimetype": "text/x-python",
      "codemirror_mode": {
        "name": "ipython",
        "version": 3
      },
      "pygments_lexer": "ipython3",
      "nbconvert_exporter": "python",
      "file_extension": ".py"
    },
    "prev_pub_hash": "cf25684b5f40b85f8cce20a89cf822f405779387881f3fd281fbe1317debe407",
    "colab": {
      "provenance": [],
      "gpuType": "T4"
    },
    "accelerator": "GPU"
  },
  "nbformat": 4,
  "nbformat_minor": 0
}